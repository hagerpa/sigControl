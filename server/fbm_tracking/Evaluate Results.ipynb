{
 "cells": [
  {
   "cell_type": "code",
   "execution_count": 43,
   "id": "bde5dfe6",
   "metadata": {},
   "outputs": [],
   "source": [
    "import pandas as pd\n",
    "import os\n",
    "import numpy as np\n",
    "import scipy"
   ]
  },
  {
   "cell_type": "code",
   "execution_count": 77,
   "id": "7aaac9ca-bf5f-4bfa-99d4-d9699cf3401a",
   "metadata": {},
   "outputs": [],
   "source": [
    "files = os.listdir('results_server/')\n",
    "filename='results_merged/results_2024_05_23'"
   ]
  },
  {
   "cell_type": "code",
   "execution_count": 78,
   "id": "f4281b17-b509-42d6-a22c-d3cd272c8afa",
   "metadata": {},
   "outputs": [],
   "source": [
    "# MERGING RESULTS\n",
    "files = os.listdir('results_server/')\n",
    "dfs = [\n",
    "    pd.read_pickle('results_server/{}'.format(f))\n",
    "    for f in files\n",
    "    if f[-3:] == 'pkl'\n",
    "]\n",
    "df = pd.concat(dfs, ignore_index=True)\n",
    "df.sort_values(by=['H']).to_csv(filename+\".csv\")\n",
    "df.to_pickle(filename+\".pkl\")"
   ]
  },
  {
   "cell_type": "code",
   "execution_count": 83,
   "id": "d3bdb92f-7bcf-4ea3-8c13-c4d6d9d11104",
   "metadata": {},
   "outputs": [
    {
     "data": {
      "text/html": [
       "<div>\n",
       "<style scoped>\n",
       "    .dataframe tbody tr th:only-of-type {\n",
       "        vertical-align: middle;\n",
       "    }\n",
       "\n",
       "    .dataframe tbody tr th {\n",
       "        vertical-align: top;\n",
       "    }\n",
       "\n",
       "    .dataframe thead th {\n",
       "        text-align: right;\n",
       "    }\n",
       "</style>\n",
       "<table border=\"1\" class=\"dataframe\">\n",
       "  <thead>\n",
       "    <tr style=\"text-align: right;\">\n",
       "      <th></th>\n",
       "      <th>dscrt_train</th>\n",
       "      <th>dscrt</th>\n",
       "      <th>N</th>\n",
       "      <th>H</th>\n",
       "      <th>space</th>\n",
       "      <th>nn_hidden</th>\n",
       "      <th>penalty</th>\n",
       "      <th>initial</th>\n",
       "      <th>constraint</th>\n",
       "      <th>restarts</th>\n",
       "      <th>...</th>\n",
       "      <th>nn_dropout</th>\n",
       "      <th>max_gb</th>\n",
       "      <th>MC_</th>\n",
       "      <th>sig_comp</th>\n",
       "      <th>save_model</th>\n",
       "      <th>res</th>\n",
       "      <th>err</th>\n",
       "      <th>time</th>\n",
       "      <th>train_time</th>\n",
       "      <th>eval_time</th>\n",
       "    </tr>\n",
       "  </thead>\n",
       "  <tbody>\n",
       "    <tr>\n",
       "      <th>0</th>\n",
       "      <td>1000</td>\n",
       "      <td>1000</td>\n",
       "      <td>4</td>\n",
       "      <td>0.333333</td>\n",
       "      <td>log</td>\n",
       "      <td>2.0</td>\n",
       "      <td>0.1</td>\n",
       "      <td>0.0</td>\n",
       "      <td>None</td>\n",
       "      <td>3</td>\n",
       "      <td>...</td>\n",
       "      <td>0.0</td>\n",
       "      <td>32</td>\n",
       "      <td>1048576</td>\n",
       "      <td>tX</td>\n",
       "      <td>True</td>\n",
       "      <td>0.175509</td>\n",
       "      <td>0.000122</td>\n",
       "      <td>2024-05-22 13:43:40</td>\n",
       "      <td>8712.202627</td>\n",
       "      <td>560.893171</td>\n",
       "    </tr>\n",
       "    <tr>\n",
       "      <th>1</th>\n",
       "      <td>1000</td>\n",
       "      <td>1000</td>\n",
       "      <td>5</td>\n",
       "      <td>0.250000</td>\n",
       "      <td>log</td>\n",
       "      <td>2.0</td>\n",
       "      <td>0.1</td>\n",
       "      <td>0.0</td>\n",
       "      <td>None</td>\n",
       "      <td>3</td>\n",
       "      <td>...</td>\n",
       "      <td>0.0</td>\n",
       "      <td>32</td>\n",
       "      <td>1048576</td>\n",
       "      <td>tX</td>\n",
       "      <td>True</td>\n",
       "      <td>0.209118</td>\n",
       "      <td>0.000130</td>\n",
       "      <td>2024-05-22 14:37:35</td>\n",
       "      <td>7088.841664</td>\n",
       "      <td>1080.105326</td>\n",
       "    </tr>\n",
       "    <tr>\n",
       "      <th>2</th>\n",
       "      <td>1000</td>\n",
       "      <td>1000</td>\n",
       "      <td>5</td>\n",
       "      <td>0.125000</td>\n",
       "      <td>sig</td>\n",
       "      <td>0.0</td>\n",
       "      <td>0.1</td>\n",
       "      <td>0.0</td>\n",
       "      <td>None</td>\n",
       "      <td>3</td>\n",
       "      <td>...</td>\n",
       "      <td>0.0</td>\n",
       "      <td>32</td>\n",
       "      <td>1048576</td>\n",
       "      <td>tX</td>\n",
       "      <td>True</td>\n",
       "      <td>0.270160</td>\n",
       "      <td>0.000132</td>\n",
       "      <td>2024-05-22 13:02:31</td>\n",
       "      <td>1080.811220</td>\n",
       "      <td>1075.801275</td>\n",
       "    </tr>\n",
       "    <tr>\n",
       "      <th>3</th>\n",
       "      <td>1000</td>\n",
       "      <td>1000</td>\n",
       "      <td>4</td>\n",
       "      <td>0.250000</td>\n",
       "      <td>sig</td>\n",
       "      <td>0.0</td>\n",
       "      <td>0.1</td>\n",
       "      <td>0.0</td>\n",
       "      <td>None</td>\n",
       "      <td>3</td>\n",
       "      <td>...</td>\n",
       "      <td>0.0</td>\n",
       "      <td>32</td>\n",
       "      <td>1048576</td>\n",
       "      <td>tX</td>\n",
       "      <td>True</td>\n",
       "      <td>0.208723</td>\n",
       "      <td>0.000132</td>\n",
       "      <td>2024-05-22 11:58:55</td>\n",
       "      <td>1533.794449</td>\n",
       "      <td>672.009269</td>\n",
       "    </tr>\n",
       "    <tr>\n",
       "      <th>4</th>\n",
       "      <td>1000</td>\n",
       "      <td>1000</td>\n",
       "      <td>5</td>\n",
       "      <td>0.250000</td>\n",
       "      <td>sig</td>\n",
       "      <td>0.0</td>\n",
       "      <td>0.1</td>\n",
       "      <td>0.0</td>\n",
       "      <td>None</td>\n",
       "      <td>3</td>\n",
       "      <td>...</td>\n",
       "      <td>0.0</td>\n",
       "      <td>32</td>\n",
       "      <td>1048576</td>\n",
       "      <td>tX</td>\n",
       "      <td>True</td>\n",
       "      <td>0.209187</td>\n",
       "      <td>0.000131</td>\n",
       "      <td>2024-05-22 12:55:00</td>\n",
       "      <td>1064.135249</td>\n",
       "      <td>1041.561607</td>\n",
       "    </tr>\n",
       "    <tr>\n",
       "      <th>...</th>\n",
       "      <td>...</td>\n",
       "      <td>...</td>\n",
       "      <td>...</td>\n",
       "      <td>...</td>\n",
       "      <td>...</td>\n",
       "      <td>...</td>\n",
       "      <td>...</td>\n",
       "      <td>...</td>\n",
       "      <td>...</td>\n",
       "      <td>...</td>\n",
       "      <td>...</td>\n",
       "      <td>...</td>\n",
       "      <td>...</td>\n",
       "      <td>...</td>\n",
       "      <td>...</td>\n",
       "      <td>...</td>\n",
       "      <td>...</td>\n",
       "      <td>...</td>\n",
       "      <td>...</td>\n",
       "      <td>...</td>\n",
       "      <td>...</td>\n",
       "    </tr>\n",
       "    <tr>\n",
       "      <th>65</th>\n",
       "      <td>100</td>\n",
       "      <td>100</td>\n",
       "      <td>1</td>\n",
       "      <td>0.100000</td>\n",
       "      <td>log</td>\n",
       "      <td>NaN</td>\n",
       "      <td>0.1</td>\n",
       "      <td>0.0</td>\n",
       "      <td>None</td>\n",
       "      <td>3</td>\n",
       "      <td>...</td>\n",
       "      <td>0.0</td>\n",
       "      <td>32</td>\n",
       "      <td>1048576</td>\n",
       "      <td>tX</td>\n",
       "      <td>True</td>\n",
       "      <td>0.291032</td>\n",
       "      <td>0.000126</td>\n",
       "      <td>2024-05-21 14:48:36</td>\n",
       "      <td>1882.183116</td>\n",
       "      <td>38.432001</td>\n",
       "    </tr>\n",
       "    <tr>\n",
       "      <th>66</th>\n",
       "      <td>1000</td>\n",
       "      <td>1000</td>\n",
       "      <td>4</td>\n",
       "      <td>0.500000</td>\n",
       "      <td>log</td>\n",
       "      <td>2.0</td>\n",
       "      <td>0.1</td>\n",
       "      <td>0.0</td>\n",
       "      <td>None</td>\n",
       "      <td>3</td>\n",
       "      <td>...</td>\n",
       "      <td>0.0</td>\n",
       "      <td>32</td>\n",
       "      <td>1048576</td>\n",
       "      <td>tX</td>\n",
       "      <td>True</td>\n",
       "      <td>0.123917</td>\n",
       "      <td>0.000102</td>\n",
       "      <td>2024-05-22 13:40:48</td>\n",
       "      <td>8650.497437</td>\n",
       "      <td>571.560032</td>\n",
       "    </tr>\n",
       "    <tr>\n",
       "      <th>67</th>\n",
       "      <td>1000</td>\n",
       "      <td>1000</td>\n",
       "      <td>1</td>\n",
       "      <td>0.062500</td>\n",
       "      <td>sig</td>\n",
       "      <td>0.0</td>\n",
       "      <td>0.1</td>\n",
       "      <td>0.0</td>\n",
       "      <td>None</td>\n",
       "      <td>3</td>\n",
       "      <td>...</td>\n",
       "      <td>0.0</td>\n",
       "      <td>32</td>\n",
       "      <td>1048576</td>\n",
       "      <td>tX</td>\n",
       "      <td>True</td>\n",
       "      <td>0.329117</td>\n",
       "      <td>0.000162</td>\n",
       "      <td>2024-05-22 13:56:05</td>\n",
       "      <td>12505.158759</td>\n",
       "      <td>273.086863</td>\n",
       "    </tr>\n",
       "    <tr>\n",
       "      <th>68</th>\n",
       "      <td>1000</td>\n",
       "      <td>1000</td>\n",
       "      <td>4</td>\n",
       "      <td>0.333333</td>\n",
       "      <td>sig</td>\n",
       "      <td>0.0</td>\n",
       "      <td>0.1</td>\n",
       "      <td>0.0</td>\n",
       "      <td>None</td>\n",
       "      <td>3</td>\n",
       "      <td>...</td>\n",
       "      <td>0.0</td>\n",
       "      <td>32</td>\n",
       "      <td>1048576</td>\n",
       "      <td>tX</td>\n",
       "      <td>True</td>\n",
       "      <td>0.175727</td>\n",
       "      <td>0.000125</td>\n",
       "      <td>2024-05-22 11:59:22</td>\n",
       "      <td>1506.819761</td>\n",
       "      <td>672.074105</td>\n",
       "    </tr>\n",
       "    <tr>\n",
       "      <th>69</th>\n",
       "      <td>1000</td>\n",
       "      <td>1000</td>\n",
       "      <td>4</td>\n",
       "      <td>0.062500</td>\n",
       "      <td>sig</td>\n",
       "      <td>0.0</td>\n",
       "      <td>0.1</td>\n",
       "      <td>0.0</td>\n",
       "      <td>None</td>\n",
       "      <td>3</td>\n",
       "      <td>...</td>\n",
       "      <td>0.0</td>\n",
       "      <td>32</td>\n",
       "      <td>1048576</td>\n",
       "      <td>tX</td>\n",
       "      <td>True</td>\n",
       "      <td>0.305289</td>\n",
       "      <td>0.000128</td>\n",
       "      <td>2024-05-22 11:57:13</td>\n",
       "      <td>1509.633870</td>\n",
       "      <td>660.082680</td>\n",
       "    </tr>\n",
       "  </tbody>\n",
       "</table>\n",
       "<p>70 rows × 27 columns</p>\n",
       "</div>"
      ],
      "text/plain": [
       "    dscrt_train  dscrt  N         H space  nn_hidden  penalty  initial  \\\n",
       "0          1000   1000  4  0.333333   log        2.0      0.1      0.0   \n",
       "1          1000   1000  5  0.250000   log        2.0      0.1      0.0   \n",
       "2          1000   1000  5  0.125000   sig        0.0      0.1      0.0   \n",
       "3          1000   1000  4  0.250000   sig        0.0      0.1      0.0   \n",
       "4          1000   1000  5  0.250000   sig        0.0      0.1      0.0   \n",
       "..          ...    ... ..       ...   ...        ...      ...      ...   \n",
       "65          100    100  1  0.100000   log        NaN      0.1      0.0   \n",
       "66         1000   1000  4  0.500000   log        2.0      0.1      0.0   \n",
       "67         1000   1000  1  0.062500   sig        0.0      0.1      0.0   \n",
       "68         1000   1000  4  0.333333   sig        0.0      0.1      0.0   \n",
       "69         1000   1000  4  0.062500   sig        0.0      0.1      0.0   \n",
       "\n",
       "   constraint  restarts  ...  nn_dropout  max_gb      MC_  sig_comp  \\\n",
       "0        None         3  ...         0.0      32  1048576        tX   \n",
       "1        None         3  ...         0.0      32  1048576        tX   \n",
       "2        None         3  ...         0.0      32  1048576        tX   \n",
       "3        None         3  ...         0.0      32  1048576        tX   \n",
       "4        None         3  ...         0.0      32  1048576        tX   \n",
       "..        ...       ...  ...         ...     ...      ...       ...   \n",
       "65       None         3  ...         0.0      32  1048576        tX   \n",
       "66       None         3  ...         0.0      32  1048576        tX   \n",
       "67       None         3  ...         0.0      32  1048576        tX   \n",
       "68       None         3  ...         0.0      32  1048576        tX   \n",
       "69       None         3  ...         0.0      32  1048576        tX   \n",
       "\n",
       "    save_model       res       err                time    train_time  \\\n",
       "0         True  0.175509  0.000122 2024-05-22 13:43:40   8712.202627   \n",
       "1         True  0.209118  0.000130 2024-05-22 14:37:35   7088.841664   \n",
       "2         True  0.270160  0.000132 2024-05-22 13:02:31   1080.811220   \n",
       "3         True  0.208723  0.000132 2024-05-22 11:58:55   1533.794449   \n",
       "4         True  0.209187  0.000131 2024-05-22 12:55:00   1064.135249   \n",
       "..         ...       ...       ...                 ...           ...   \n",
       "65        True  0.291032  0.000126 2024-05-21 14:48:36   1882.183116   \n",
       "66        True  0.123917  0.000102 2024-05-22 13:40:48   8650.497437   \n",
       "67        True  0.329117  0.000162 2024-05-22 13:56:05  12505.158759   \n",
       "68        True  0.175727  0.000125 2024-05-22 11:59:22   1506.819761   \n",
       "69        True  0.305289  0.000128 2024-05-22 11:57:13   1509.633870   \n",
       "\n",
       "      eval_time  \n",
       "0    560.893171  \n",
       "1   1080.105326  \n",
       "2   1075.801275  \n",
       "3    672.009269  \n",
       "4   1041.561607  \n",
       "..          ...  \n",
       "65    38.432001  \n",
       "66   571.560032  \n",
       "67   273.086863  \n",
       "68   672.074105  \n",
       "69   660.082680  \n",
       "\n",
       "[70 rows x 27 columns]"
      ]
     },
     "execution_count": 83,
     "metadata": {},
     "output_type": "execute_result"
    }
   ],
   "source": [
    "df"
   ]
  },
  {
   "cell_type": "code",
   "execution_count": 79,
   "id": "fb91f00a",
   "metadata": {},
   "outputs": [],
   "source": [
    "df = pd.read_pickle(filename+\".pkl\")"
   ]
  },
  {
   "cell_type": "code",
   "execution_count": 80,
   "id": "f7351bff-f1ee-42ba-afe6-c64a0c2b4f87",
   "metadata": {},
   "outputs": [
    {
     "data": {
      "text/plain": [
       "0.00016160440676622227"
      ]
     },
     "execution_count": 80,
     "metadata": {},
     "output_type": "execute_result"
    }
   ],
   "source": [
    "df[\"err\"].max()"
   ]
  },
  {
   "cell_type": "code",
   "execution_count": 81,
   "id": "8e8b7cd2",
   "metadata": {},
   "outputs": [],
   "source": [
    "# kappa: H:\n",
    "benchmarks = {\n",
    "    0.1: {\n",
    "            0.0625: 0.29299260336175903,\n",
    "            0.1: 0.27637816610812527,\n",
    "            0.125: 0.26401618499869683,\n",
    "            0.2: 0.22819477521602005,\n",
    "            0.25: 0.2064417971966493,\n",
    "            0.3: 0.18655548102278066,\n",
    "            0.3333333333333333: 0.17430122981223287,\n",
    "            0.4: 0.15202891045333583,\n",
    "            0.5: 0.12354603195750886,\n",
    "            0.6: 0.09991169320038855,\n",
    "            0.7: 0.08004908960839505,\n",
    "            0.75: 0.0712373683442226,\n",
    "            0.8: 0.0630304375132153,\n",
    "            0.9: 0.048030974549881165,\n",
    "            1.0: 0.034},\n",
    "    0.01: {\n",
    "        0.1: 0.20085137340115772,\n",
    "        0.2: 0.1428418428389489,\n",
    "        0.3: 0.09954529063458387,\n",
    "        0.4: 0.06849005754875274,\n",
    "        0.5: 0.04653426410750604,\n",
    "        0.6: 0.03114831101100001,\n",
    "        0.7: 0.02044020442056757,\n",
    "        0.8: 0.013037332367746074,\n",
    "        0.9: 0.00795731031703343,\n",
    "        1.0: 0.004788375569560145,\n",
    "    },\n",
    "}"
   ]
  },
  {
   "cell_type": "code",
   "execution_count": 84,
   "id": "7cde4272-e207-4cac-8ece-ba9ffb11d657",
   "metadata": {},
   "outputs": [
    {
     "name": "stdout",
     "output_type": "stream",
     "text": [
      "  &  $H$ &  0.0625 &  0.125 &  0.25 &  0.5 &  0.75 &  1.0  \\\\\n",
      "\\hline\n",
      "  \\multicolumn{2}{c |}{th. optimum}   & 0.293 & 0.264 & 0.206 & 0.124 & 0.071 & 0.000  \\\\ \n",
      "\\hline\n",
      "\\multirow{ 5 }{*}{ $\\mathcal{A}_{ sig }$ }& $N = 1$  & 0.329 & 0.286 & 0.223 & 0.146 & 0.101 & 0.073  \\\\ \n",
      "& $N = 2$  & 0.314 & 0.275 & 0.210 & 0.127 & 0.076 & 0.041  \\\\ \n",
      "& $N = 3$  & 0.310 & 0.274 & 0.210 & \\textbf{ 0.124 } & 0.073 & 0.038  \\\\ \n",
      "& $N = 4$  & 0.305 & 0.271 & 0.209 & \\textbf{ 0.124 } & 0.073 & 0.038  \\\\ \n",
      "& $N = 5$  & 0.305 & 0.270 & 0.209 & \\textbf{ 0.124 } & 0.073 & 0.039  \\\\ \n",
      "\\hline\n",
      "\\multirow{ 5 }{*}{ $\\mathcal{A}_{ log }$ }& $N = 1$  &       &       &       &       &       &        \\\\ \n",
      "& $N = 2$  &       &       & 0.209 & \\textbf{ 0.124 } &       & 0.035  \\\\ \n",
      "& $N = 3$  & 0.302 & 0.269 & 0.209 & \\textbf{ 0.124 } & \\textbf{ 0.072 } & \\textbf{ 0.034 }  \\\\ \n",
      "& $N = 4$  & \\textbf{ 0.300 } & \\textbf{ 0.267 } & \\textbf{ 0.208 } & \\textbf{ 0.124 } & \\textbf{ 0.072 } & 0.035  \\\\ \n",
      "& $N = 5$  & 0.302 & 0.268 & 0.209 & \\textbf{ 0.124 } & \\textbf{ 0.072 } & \\textbf{ 0.034 }  \\\\ \n"
     ]
    }
   ],
   "source": [
    "# H in collumns's\n",
    "\n",
    "penalty = 0.1\n",
    "discrt = 1000\n",
    "mode = ['tX']\n",
    "space = ['sig', 'log']\n",
    "N_range = [1,2,3,4,5]\n",
    "#H_range = [.1,.2,.3,.5,.8,1.0]\n",
    "H_range = [1.0/16,1.0/8,1.0/4,1.0/2,3.0/4,1.0]\n",
    "\n",
    "df_ = df.query('dscrt == @discrt and penalty == @penalty and N in @N_range and sig_comp in @mode and space in @space')\n",
    "df_ = df_.sort_values(by=['sig_comp','N', 'H'], ascending=[False, True, True])\n",
    "\n",
    "best_values = { \n",
    "    H: df_.query(\"H == @H\")[\"res\"].dropna().to_numpy().min().round(3)\n",
    "    for H in H_range\n",
    "}\n",
    "\n",
    "# First row\n",
    "print('  &  $H$', end=' ')\n",
    "for H in H_range:\n",
    "    print('&  {}'.format(H), end=' ')\n",
    "print(' \\\\\\\\')\n",
    "\n",
    "# Benchmark row\n",
    "if penalty in benchmarks.keys():\n",
    "    print('\\\\hline')\n",
    "    print('  \\multicolumn{2}{c |}{th. optimum}  ', end=' ')\n",
    "    for H in H_range:\n",
    "        if H in benchmarks[penalty]:\n",
    "            print('& {:0.3f}'.format(benchmarks[penalty][H]), end=' ') # print benchmark\n",
    "        else: \n",
    "            print('&  ', end=' ')\n",
    "    print(' \\\\\\\\ ')\n",
    "\n",
    "\n",
    "\n",
    "for spc in space:\n",
    "    print('\\\\hline')\n",
    "    print(r\"\\multirow{{ {} }}{{*}}{{ $\\mathcal{{A}}_{{ {} }}$ }}\".format(len(N_range), spc), end='')\n",
    "    for N in N_range:\n",
    "        print('& $N = {}$ '.format(N), end=' ')\n",
    "\n",
    "        for H in H_range:\n",
    "            res = df_.query(\"N == @N and space == @spc and H == @H\")[[\"res\", \"err\"]]\n",
    "                \n",
    "            if len(res) == 0:\n",
    "                print('&      ', end=' ')\n",
    "            else:\n",
    "                v = res[\"res\"].to_numpy()[0]\n",
    "                if v.round(3) == best_values[H]:\n",
    "                    print('& \\\\textbf{{ {:0.3f} }}'.format(v), end=' ')\n",
    "                else:\n",
    "                    print('& {:0.3f}'.format(v), end=' ')\n",
    "        \n",
    "        print(' \\\\\\\\ ')"
   ]
  },
  {
   "cell_type": "code",
   "execution_count": null,
   "id": "31ad1310-dc44-4138-94c6-e863769b1d24",
   "metadata": {},
   "outputs": [],
   "source": []
  },
  {
   "cell_type": "code",
   "execution_count": null,
   "id": "396ceb33-a6ed-43ed-9ad8-d4659176e2cc",
   "metadata": {},
   "outputs": [],
   "source": []
  },
  {
   "cell_type": "code",
   "execution_count": null,
   "id": "10e458e0-c496-44fa-861a-90c3ea4d88be",
   "metadata": {},
   "outputs": [],
   "source": []
  },
  {
   "cell_type": "code",
   "execution_count": 55,
   "id": "315ac5d8-8be8-4f9f-b04a-2b85dc5c8906",
   "metadata": {},
   "outputs": [],
   "source": [
    "files = os.listdir('benchmarks/')\n",
    "filename='results_merged/benchmarks'"
   ]
  },
  {
   "cell_type": "code",
   "execution_count": 66,
   "id": "a7391bd9-e098-42e9-9e46-59359a20bf6d",
   "metadata": {},
   "outputs": [],
   "source": [
    "# MERGING RESULTS\n",
    "files = os.listdir('benchmarks/')\n",
    "dfs = [\n",
    "    pd.read_pickle('benchmarks/{}'.format(f))\n",
    "    for f in files\n",
    "    if f[-3:] == 'pkl'\n",
    "]\n",
    "df = pd.concat(dfs, ignore_index=True)\n",
    "df.sort_values(by=['H']).to_csv(filename+\".csv\")\n",
    "df.to_pickle(filename+\".pkl\")\n",
    "df = df.sort_values(\"H\")"
   ]
  },
  {
   "cell_type": "code",
   "execution_count": 67,
   "id": "cdeca8fa-c4a4-419a-b3d2-ca87cd8ab3f7",
   "metadata": {},
   "outputs": [
    {
     "data": {
      "text/plain": [
       "{0.0625: 0.29299260336175903,\n",
       " 0.1: 0.27637816610812527,\n",
       " 0.125: 0.26401618499869683,\n",
       " 0.2: 0.22819477521602005,\n",
       " 0.25: 0.2064417971966493,\n",
       " 0.3: 0.18655548102278066,\n",
       " 0.3333333333333333: 0.17430122981223287,\n",
       " 0.4: 0.15202891045333583,\n",
       " 0.5: 0.12354603195750886,\n",
       " 0.6: 0.09991169320038855,\n",
       " 0.7: 0.08004908960839505,\n",
       " 0.75: 0.0712373683442226,\n",
       " 0.8: 0.0630304375132153,\n",
       " 0.9: 0.048030974549881165,\n",
       " 1.0: 0.0}"
      ]
     },
     "execution_count": 67,
     "metadata": {},
     "output_type": "execute_result"
    }
   ],
   "source": [
    "benchmarks_new = dict(zip(df.H, df.res))\n",
    "benchmarks_new[0.5] = 0.12354603195750886\n",
    "benchmarks_new"
   ]
  },
  {
   "cell_type": "code",
   "execution_count": null,
   "id": "796133fa-b201-48e0-9c8a-75558ab381a0",
   "metadata": {},
   "outputs": [],
   "source": []
  },
  {
   "cell_type": "code",
   "execution_count": null,
   "id": "f11750e5-8556-48a6-a74c-e60954a749ba",
   "metadata": {},
   "outputs": [],
   "source": []
  },
  {
   "cell_type": "code",
   "execution_count": null,
   "id": "50c743eb-5f2b-4f1d-9346-05707c1c9360",
   "metadata": {},
   "outputs": [],
   "source": []
  },
  {
   "cell_type": "code",
   "execution_count": null,
   "id": "1d28d200-0a81-4a08-8e49-145858646231",
   "metadata": {},
   "outputs": [],
   "source": []
  },
  {
   "cell_type": "code",
   "execution_count": null,
   "id": "c6be6fdc-6b7e-4b87-9067-510f05b7115f",
   "metadata": {},
   "outputs": [],
   "source": []
  },
  {
   "cell_type": "code",
   "execution_count": null,
   "id": "26c5fca5-afab-4bd4-b1bf-025e5844dad5",
   "metadata": {},
   "outputs": [],
   "source": []
  },
  {
   "cell_type": "code",
   "execution_count": null,
   "id": "3b0f6e3e-148c-44f7-9892-bc41c36b5185",
   "metadata": {},
   "outputs": [],
   "source": []
  },
  {
   "cell_type": "code",
   "execution_count": 18,
   "id": "cff4fe15-8d44-4c49-99ae-719fe6cc051a",
   "metadata": {},
   "outputs": [
    {
     "data": {
      "text/html": [
       "<div>\n",
       "<style scoped>\n",
       "    .dataframe tbody tr th:only-of-type {\n",
       "        vertical-align: middle;\n",
       "    }\n",
       "\n",
       "    .dataframe tbody tr th {\n",
       "        vertical-align: top;\n",
       "    }\n",
       "\n",
       "    .dataframe thead th {\n",
       "        text-align: right;\n",
       "    }\n",
       "</style>\n",
       "<table border=\"1\" class=\"dataframe\">\n",
       "  <thead>\n",
       "    <tr style=\"text-align: right;\">\n",
       "      <th></th>\n",
       "      <th>res</th>\n",
       "      <th>err</th>\n",
       "    </tr>\n",
       "  </thead>\n",
       "  <tbody>\n",
       "    <tr>\n",
       "      <th>217</th>\n",
       "      <td>0.381792</td>\n",
       "      <td>0.00032</td>\n",
       "    </tr>\n",
       "  </tbody>\n",
       "</table>\n",
       "</div>"
      ],
      "text/plain": [
       "          res      err\n",
       "217  0.381792  0.00032"
      ]
     },
     "execution_count": 18,
     "metadata": {},
     "output_type": "execute_result"
    }
   ],
   "source": [
    "res"
   ]
  },
  {
   "cell_type": "raw",
   "id": "c0201703-edaf-4a00-81d3-298cecdbe5e2",
   "metadata": {},
   "source": [
    "# H in row's\n",
    "\n",
    "penalty = 0.1\n",
    "discrt = 100\n",
    "mode = ['tX']\n",
    "space = ['sig', 'log']\n",
    "\n",
    "df_ = df.query('dscrt == @discrt and penalty == @penalty and N <= 4 and sig_comp in @mode and space in @space')\n",
    "df_ = df_.sort_values(by=['sig_comp','N'], ascending=[False, True])\n",
    "for Hi in range(-1, 11):\n",
    "    H = Hi/10\n",
    "    \n",
    "    if H >= 0:\n",
    "        filt = df_.query(\"H == {}\".format(Hi/10.0))[[\"H\", \"N\", \"sig_comp\", \"res\", \"err\", \"penalty\", \"space\"]]\n",
    "        values = filt[\"res\"].to_numpy().round(3)\n",
    "        v_min = filt[\"res\"].dropna().to_numpy().min().round(3)\n",
    "        print(H, end = ' ')\n",
    "\n",
    "    for spc in space:\n",
    "        for m in mode:\n",
    "            for N in [1,2,3,4]:\n",
    "                if Hi == -1:\n",
    "                    print('& $N = {}$ '.format(N), end=' ')\n",
    "                else:\n",
    "                    res = filt.query(\"N == @N and sig_comp == @m and space == @spc\")[\"res\"]\n",
    "                    if len(res) == 0:\n",
    "                        print('&      ', end=' ')\n",
    "                    else:\n",
    "                        v = res.to_numpy()[0]\n",
    "                        if v.round(3) == v_min:\n",
    "                            print('& \\\\textbf{{ {:0.3f} }}'.format(v), end=' ')\n",
    "                        else:\n",
    "                            print('& {:0.3f}'.format(v), end=' ')\n",
    "                    \n",
    "    if H >= 0:\n",
    "        if False:\n",
    "            print('& \\\\textbf{{ {:0.3f} }}'.format(v_min), end=' ') # print best\n",
    "        \n",
    "        if penalty in benchmarks.keys():\n",
    "            if H in benchmarks[penalty]:\n",
    "                print('& {:0.3f}'.format(benchmarks[penalty][H]), end=' ') # print benchmark\n",
    "    \n",
    "    else:\n",
    "        print('&  &  ')\n",
    "    print(' \\\\\\\\ ')"
   ]
  },
  {
   "cell_type": "code",
   "execution_count": 8,
   "id": "fd499c7e",
   "metadata": {},
   "outputs": [
    {
     "data": {
      "text/plain": [
       "'0.00003'"
      ]
     },
     "execution_count": 8,
     "metadata": {},
     "output_type": "execute_result"
    }
   ],
   "source": [
    "\"{:0.5f}\".format(df_.dropna(subset='res')[\"err\"].max())"
   ]
  },
  {
   "cell_type": "code",
   "execution_count": 9,
   "id": "2b3204cf-23e2-45b0-b49b-cb9115354f82",
   "metadata": {},
   "outputs": [],
   "source": [
    "from matplotlib import pyplot as plt"
   ]
  },
  {
   "cell_type": "code",
   "execution_count": 15,
   "id": "86e39c4d-a6c5-49ed-9886-52fbcf8ad4d8",
   "metadata": {},
   "outputs": [
    {
     "data": {
      "text/plain": [
       "[<matplotlib.lines.Line2D at 0x132684d10>]"
      ]
     },
     "execution_count": 15,
     "metadata": {},
     "output_type": "execute_result"
    },
    {
     "data": {
      "image/png": "[encoded data removed]",
      "text/plain": [
       "<Figure size 640x480 with 1 Axes>"
      ]
     },
     "metadata": {},
     "output_type": "display_data"
    }
   ],
   "source": [
    "for D in [100]:#, 1000, 10_000]:\n",
    "    vals = df.query('dscrt == @D and space == \"log\" and N == 3')[[\"H\", \"res\"]].sort_values(\"H\").values[1:]\n",
    "    Hs = vals.T[0]\n",
    "    vals = [v for (h,v) in vals] #[v - benchmarks[0.1][h] for (h,v) in vals]\n",
    "    plt.plot(Hs, vals)\n",
    "    \n",
    "vals = [benchmarks[0.1][h] for h in Hs]\n",
    "plt.plot(Hs, vals)\n",
    "    #plt.ylim(0,0.01)"
   ]
  },
  {
   "cell_type": "code",
   "execution_count": 22,
   "id": "fd09b401-a3f3-48a0-b6ea-a3e55d2dc28f",
   "metadata": {},
   "outputs": [
    {
     "data": {
      "text/plain": [
       "[<matplotlib.lines.Line2D at 0x139c9ab50>]"
      ]
     },
     "execution_count": 22,
     "metadata": {},
     "output_type": "execute_result"
    },
    {
     "data": {
      "image/png": "[encoded data removed]",
      "text/plain": [
       "<Figure size 640x480 with 1 Axes>"
      ]
     },
     "metadata": {},
     "output_type": "display_data"
    }
   ],
   "source": [
    "plt.plot(benchmarks[.1].keys(), benchmarks[.1].values())"
   ]
  },
  {
   "cell_type": "markdown",
   "id": "03df9ddd",
   "metadata": {},
   "source": [
    "## Benchmark"
   ]
  },
  {
   "cell_type": "markdown",
   "id": "aab8441c",
   "metadata": {},
   "source": [
    "## constraint"
   ]
  },
  {
   "cell_type": "code",
   "execution_count": null,
   "id": "68a1d313",
   "metadata": {},
   "outputs": [],
   "source": [
    "#H = 0.5\n",
    "def penalty_constraint(H, x, T):\n",
    "    if H == 0.5:\n",
    "        return 0.5*np.sqrt(kappa)*np.tanh(T / np.sqrt(kappa)) * x**2 \\\n",
    "    + 0.5 * kappa * np.log(np.cosh(T / np.sqrt(kappa)))\n",
    "    elif H == 1.0:\n",
    "        return 0.5*np.sqrt(kappa)*np.tanh(T / np.sqrt(kappa)) * x**2 \\\n",
    "    + 0.5 * kappa * (T - np.sqrt(kappa) * np.tanh(0.5 * T / np.sqrt(kappa)))\n",
    "    else:\n",
    "        assert \"H = {} is not supported\".format(H)"
   ]
  },
  {
   "cell_type": "code",
   "execution_count": 60,
   "id": "ce157126",
   "metadata": {},
   "outputs": [
    {
     "data": {
      "text/plain": [
       "0.025113261114590262"
      ]
     },
     "execution_count": 60,
     "metadata": {},
     "output_type": "execute_result"
    }
   ],
   "source": [
    "(4*scipy.stats.norm.cdf(-1) - 2*scipy.stats.norm.pdf(-1)) / 6"
   ]
  },
  {
   "cell_type": "code",
   "execution_count": 57,
   "id": "a41ca3be",
   "metadata": {},
   "outputs": [
    {
     "data": {
      "text/plain": [
       "0.025108112006560587"
      ]
     },
     "execution_count": 57,
     "metadata": {},
     "output_type": "execute_result"
    }
   ],
   "source": [
    "np.mean(np.maximum(np.abs(np.random.randn(100000000))-1,0)**2) / 6"
   ]
  }
 ],
 "metadata": {
  "kernelspec": {
   "display_name": "Python 3 (ipykernel)",
   "language": "python",
   "name": "python3"
  },
  "language_info": {
   "codemirror_mode": {
    "name": "ipython",
    "version": 3
   },
   "file_extension": ".py",
   "mimetype": "text/x-python",
   "name": "python",
   "nbconvert_exporter": "python",
   "pygments_lexer": "ipython3",
   "version": "3.11.5"
  }
 },
 "nbformat": 4,
 "nbformat_minor": 5
}
