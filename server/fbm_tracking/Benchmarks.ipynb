{
 "cells": [
  {
   "cell_type": "code",
   "execution_count": 1,
   "id": "d93647de",
   "metadata": {},
   "outputs": [],
   "source": [
    "import numpy as np\n",
    "import sympy as sym\n",
    "import scipy\n",
    "from numpy import cosh, sinh\n",
    "from scipy.integrate import quad, dblquad, tplquad\n",
    "from matplotlib import pyplot as plt\n",
    "\n",
    "from scipy.special import hyp2f1\n",
    "\n",
    "from scipy.interpolate import CloughTocher2DInterpolator\n",
    "\n",
    "import mpmath"
   ]
  },
  {
   "cell_type": "code",
   "execution_count": 6,
   "id": "b8c179c2",
   "metadata": {},
   "outputs": [],
   "source": [
    "mode = 'num'\n",
    "if mode == 'num':\n",
    "    mod = np\n",
    "    H = 0.2\n",
    "    T = 1\n",
    "    kappa = 0.1\n",
    "    beta_inc = scipy.special.betainc\n",
    "    gamma = scipy.special.gamma\n",
    "\n",
    "    t_span = np.concatenate([ \n",
    "        np.linspace(0, 0.1, 100, endpoint=False),\n",
    "        np.linspace(0.1, 0.9, 100, endpoint=False),\n",
    "        np.linspace(0.9, 1.0, 100),\n",
    "    ])\n",
    "    \n",
    "elif mode == 'sym':\n",
    "    mod = sym\n",
    "    H = sym.Symbol('H')\n",
    "    T = sym.Symbol('T')\n",
    "    t = sym.Symbol('t')\n",
    "    s = sym.Symbol('s')\n",
    "    u = sym.Symbol('u')\n",
    "    v = sym.Symbol('v')\n",
    "    kappa = sym.Symbol('\\kappa')\n",
    "    beta_inc = lambda a, b, x: sym.betainc(a, b, 0, x)\n",
    "    gamma = sym.gamma\n",
    "    \n",
    "tau = lambda t: (T-t)/np.sqrt(kappa)"
   ]
  },
  {
   "cell_type": "code",
   "execution_count": 7,
   "id": "1d9dfab3",
   "metadata": {},
   "outputs": [
    {
     "name": "stderr",
     "output_type": "stream",
     "text": [
      "/var/folders/xr/jyb9qx9525v78pfvgjv4kfn40000gp/T/ipykernel_31000/846138070.py:7: RuntimeWarning: divide by zero encountered in double_scalars\n",
      "  r = s**(H - 1/2) * H / c_H\n",
      "/var/folders/xr/jyb9qx9525v78pfvgjv4kfn40000gp/T/ipykernel_31000/846138070.py:9: RuntimeWarning: divide by zero encountered in double_scalars\n",
      "  r += c_H * (t / s)**(H - 1/2) * (t-s)**(H-1/2)\n"
     ]
    },
    {
     "ename": "ValueError",
     "evalue": "x and y must have same first dimension, but have shapes (300,) and (100,)",
     "output_type": "error",
     "traceback": [
      "\u001b[0;31m---------------------------------------------------------------------------\u001b[0m",
      "\u001b[0;31mValueError\u001b[0m                                Traceback (most recent call last)",
      "Cell \u001b[0;32mIn[7], line 73\u001b[0m\n\u001b[1;32m     71\u001b[0m beta \u001b[38;5;241m=\u001b[39m scipy\u001b[38;5;241m.\u001b[39minterpolate\u001b[38;5;241m.\u001b[39mPchipInterpolator(t_span, vs)\n\u001b[1;32m     72\u001b[0m plt\u001b[38;5;241m.\u001b[39mplot(t_span, vs)\n\u001b[0;32m---> 73\u001b[0m \u001b[43mplt\u001b[49m\u001b[38;5;241;43m.\u001b[39;49m\u001b[43mplot\u001b[49m\u001b[43m(\u001b[49m\u001b[43mt_span\u001b[49m\u001b[43m,\u001b[49m\u001b[43m \u001b[49m\u001b[43mbeta\u001b[49m\u001b[43m(\u001b[49m\u001b[43mts\u001b[49m\u001b[43m)\u001b[49m\u001b[43m)\u001b[49m\n\u001b[1;32m     74\u001b[0m plt\u001b[38;5;241m.\u001b[39mshow()\n\u001b[1;32m     77\u001b[0m \u001b[38;5;66;03m# Squared distance term\u001b[39;00m\n",
      "File \u001b[0;32m/opt/miniconda3/lib/python3.9/site-packages/matplotlib/pyplot.py:2757\u001b[0m, in \u001b[0;36mplot\u001b[0;34m(scalex, scaley, data, *args, **kwargs)\u001b[0m\n\u001b[1;32m   2755\u001b[0m \u001b[38;5;129m@_copy_docstring_and_deprecators\u001b[39m(Axes\u001b[38;5;241m.\u001b[39mplot)\n\u001b[1;32m   2756\u001b[0m \u001b[38;5;28;01mdef\u001b[39;00m \u001b[38;5;21mplot\u001b[39m(\u001b[38;5;241m*\u001b[39margs, scalex\u001b[38;5;241m=\u001b[39m\u001b[38;5;28;01mTrue\u001b[39;00m, scaley\u001b[38;5;241m=\u001b[39m\u001b[38;5;28;01mTrue\u001b[39;00m, data\u001b[38;5;241m=\u001b[39m\u001b[38;5;28;01mNone\u001b[39;00m, \u001b[38;5;241m*\u001b[39m\u001b[38;5;241m*\u001b[39mkwargs):\n\u001b[0;32m-> 2757\u001b[0m     \u001b[38;5;28;01mreturn\u001b[39;00m \u001b[43mgca\u001b[49m\u001b[43m(\u001b[49m\u001b[43m)\u001b[49m\u001b[38;5;241;43m.\u001b[39;49m\u001b[43mplot\u001b[49m\u001b[43m(\u001b[49m\n\u001b[1;32m   2758\u001b[0m \u001b[43m        \u001b[49m\u001b[38;5;241;43m*\u001b[39;49m\u001b[43margs\u001b[49m\u001b[43m,\u001b[49m\u001b[43m \u001b[49m\u001b[43mscalex\u001b[49m\u001b[38;5;241;43m=\u001b[39;49m\u001b[43mscalex\u001b[49m\u001b[43m,\u001b[49m\u001b[43m \u001b[49m\u001b[43mscaley\u001b[49m\u001b[38;5;241;43m=\u001b[39;49m\u001b[43mscaley\u001b[49m\u001b[43m,\u001b[49m\n\u001b[1;32m   2759\u001b[0m \u001b[43m        \u001b[49m\u001b[38;5;241;43m*\u001b[39;49m\u001b[38;5;241;43m*\u001b[39;49m\u001b[43m(\u001b[49m\u001b[43m{\u001b[49m\u001b[38;5;124;43m\"\u001b[39;49m\u001b[38;5;124;43mdata\u001b[39;49m\u001b[38;5;124;43m\"\u001b[39;49m\u001b[43m:\u001b[49m\u001b[43m \u001b[49m\u001b[43mdata\u001b[49m\u001b[43m}\u001b[49m\u001b[43m \u001b[49m\u001b[38;5;28;43;01mif\u001b[39;49;00m\u001b[43m \u001b[49m\u001b[43mdata\u001b[49m\u001b[43m \u001b[49m\u001b[38;5;129;43;01mis\u001b[39;49;00m\u001b[43m \u001b[49m\u001b[38;5;129;43;01mnot\u001b[39;49;00m\u001b[43m \u001b[49m\u001b[38;5;28;43;01mNone\u001b[39;49;00m\u001b[43m \u001b[49m\u001b[38;5;28;43;01melse\u001b[39;49;00m\u001b[43m \u001b[49m\u001b[43m{\u001b[49m\u001b[43m}\u001b[49m\u001b[43m)\u001b[49m\u001b[43m,\u001b[49m\u001b[43m \u001b[49m\u001b[38;5;241;43m*\u001b[39;49m\u001b[38;5;241;43m*\u001b[39;49m\u001b[43mkwargs\u001b[49m\u001b[43m)\u001b[49m\n",
      "File \u001b[0;32m/opt/miniconda3/lib/python3.9/site-packages/matplotlib/axes/_axes.py:1632\u001b[0m, in \u001b[0;36mAxes.plot\u001b[0;34m(self, scalex, scaley, data, *args, **kwargs)\u001b[0m\n\u001b[1;32m   1390\u001b[0m \u001b[38;5;250m\u001b[39m\u001b[38;5;124;03m\"\"\"\u001b[39;00m\n\u001b[1;32m   1391\u001b[0m \u001b[38;5;124;03mPlot y versus x as lines and/or markers.\u001b[39;00m\n\u001b[1;32m   1392\u001b[0m \n\u001b[0;32m   (...)\u001b[0m\n\u001b[1;32m   1629\u001b[0m \u001b[38;5;124;03m(``'green'``) or hex strings (``'#008000'``).\u001b[39;00m\n\u001b[1;32m   1630\u001b[0m \u001b[38;5;124;03m\"\"\"\u001b[39;00m\n\u001b[1;32m   1631\u001b[0m kwargs \u001b[38;5;241m=\u001b[39m cbook\u001b[38;5;241m.\u001b[39mnormalize_kwargs(kwargs, mlines\u001b[38;5;241m.\u001b[39mLine2D)\n\u001b[0;32m-> 1632\u001b[0m lines \u001b[38;5;241m=\u001b[39m [\u001b[38;5;241m*\u001b[39m\u001b[38;5;28mself\u001b[39m\u001b[38;5;241m.\u001b[39m_get_lines(\u001b[38;5;241m*\u001b[39margs, data\u001b[38;5;241m=\u001b[39mdata, \u001b[38;5;241m*\u001b[39m\u001b[38;5;241m*\u001b[39mkwargs)]\n\u001b[1;32m   1633\u001b[0m \u001b[38;5;28;01mfor\u001b[39;00m line \u001b[38;5;129;01min\u001b[39;00m lines:\n\u001b[1;32m   1634\u001b[0m     \u001b[38;5;28mself\u001b[39m\u001b[38;5;241m.\u001b[39madd_line(line)\n",
      "File \u001b[0;32m/opt/miniconda3/lib/python3.9/site-packages/matplotlib/axes/_base.py:312\u001b[0m, in \u001b[0;36m_process_plot_var_args.__call__\u001b[0;34m(self, data, *args, **kwargs)\u001b[0m\n\u001b[1;32m    310\u001b[0m     this \u001b[38;5;241m+\u001b[39m\u001b[38;5;241m=\u001b[39m args[\u001b[38;5;241m0\u001b[39m],\n\u001b[1;32m    311\u001b[0m     args \u001b[38;5;241m=\u001b[39m args[\u001b[38;5;241m1\u001b[39m:]\n\u001b[0;32m--> 312\u001b[0m \u001b[38;5;28;01myield from\u001b[39;00m \u001b[38;5;28;43mself\u001b[39;49m\u001b[38;5;241;43m.\u001b[39;49m\u001b[43m_plot_args\u001b[49m\u001b[43m(\u001b[49m\u001b[43mthis\u001b[49m\u001b[43m,\u001b[49m\u001b[43m \u001b[49m\u001b[43mkwargs\u001b[49m\u001b[43m)\u001b[49m\n",
      "File \u001b[0;32m/opt/miniconda3/lib/python3.9/site-packages/matplotlib/axes/_base.py:498\u001b[0m, in \u001b[0;36m_process_plot_var_args._plot_args\u001b[0;34m(self, tup, kwargs, return_kwargs)\u001b[0m\n\u001b[1;32m    495\u001b[0m     \u001b[38;5;28mself\u001b[39m\u001b[38;5;241m.\u001b[39maxes\u001b[38;5;241m.\u001b[39myaxis\u001b[38;5;241m.\u001b[39mupdate_units(y)\n\u001b[1;32m    497\u001b[0m \u001b[38;5;28;01mif\u001b[39;00m x\u001b[38;5;241m.\u001b[39mshape[\u001b[38;5;241m0\u001b[39m] \u001b[38;5;241m!=\u001b[39m y\u001b[38;5;241m.\u001b[39mshape[\u001b[38;5;241m0\u001b[39m]:\n\u001b[0;32m--> 498\u001b[0m     \u001b[38;5;28;01mraise\u001b[39;00m \u001b[38;5;167;01mValueError\u001b[39;00m(\u001b[38;5;124mf\u001b[39m\u001b[38;5;124m\"\u001b[39m\u001b[38;5;124mx and y must have same first dimension, but \u001b[39m\u001b[38;5;124m\"\u001b[39m\n\u001b[1;32m    499\u001b[0m                      \u001b[38;5;124mf\u001b[39m\u001b[38;5;124m\"\u001b[39m\u001b[38;5;124mhave shapes \u001b[39m\u001b[38;5;132;01m{\u001b[39;00mx\u001b[38;5;241m.\u001b[39mshape\u001b[38;5;132;01m}\u001b[39;00m\u001b[38;5;124m and \u001b[39m\u001b[38;5;132;01m{\u001b[39;00my\u001b[38;5;241m.\u001b[39mshape\u001b[38;5;132;01m}\u001b[39;00m\u001b[38;5;124m\"\u001b[39m)\n\u001b[1;32m    500\u001b[0m \u001b[38;5;28;01mif\u001b[39;00m x\u001b[38;5;241m.\u001b[39mndim \u001b[38;5;241m>\u001b[39m \u001b[38;5;241m2\u001b[39m \u001b[38;5;129;01mor\u001b[39;00m y\u001b[38;5;241m.\u001b[39mndim \u001b[38;5;241m>\u001b[39m \u001b[38;5;241m2\u001b[39m:\n\u001b[1;32m    501\u001b[0m     \u001b[38;5;28;01mraise\u001b[39;00m \u001b[38;5;167;01mValueError\u001b[39;00m(\u001b[38;5;124mf\u001b[39m\u001b[38;5;124m\"\u001b[39m\u001b[38;5;124mx and y can be no greater than 2D, but have \u001b[39m\u001b[38;5;124m\"\u001b[39m\n\u001b[1;32m    502\u001b[0m                      \u001b[38;5;124mf\u001b[39m\u001b[38;5;124m\"\u001b[39m\u001b[38;5;124mshapes \u001b[39m\u001b[38;5;132;01m{\u001b[39;00mx\u001b[38;5;241m.\u001b[39mshape\u001b[38;5;132;01m}\u001b[39;00m\u001b[38;5;124m and \u001b[39m\u001b[38;5;132;01m{\u001b[39;00my\u001b[38;5;241m.\u001b[39mshape\u001b[38;5;132;01m}\u001b[39;00m\u001b[38;5;124m\"\u001b[39m)\n",
      "\u001b[0;31mValueError\u001b[0m: x and y must have same first dimension, but have shapes (300,) and (100,)"
     ]
    },
    {
     "data": {
      "image/png": "[encoded data removed]",
      "text/plain": [
       "<Figure size 640x480 with 1 Axes>"
      ]
     },
     "metadata": {},
     "output_type": "display_data"
    }
   ],
   "source": [
    "for H in [0.1, .2, .3, .4, .6, .7, .8, .9, .999]:\n",
    "        \n",
    "    c2_H = 2*H * gamma(3/2 - H) / ( gamma(H + 1/2) * gamma(2 - 2*H))\n",
    "    c_H = mod.sqrt(c2_H)\n",
    "    \n",
    "    def z(t, s):\n",
    "        r = s**(H - 1/2) * H / c_H\n",
    "        r *= 1 - beta_inc(1-2*H, H+1/2, s/t)\n",
    "        r += c_H * (t / s)**(H - 1/2) * (t-s)**(H-1/2)\n",
    "        return r\n",
    "\n",
    "    def z_prime(t,s):\n",
    "        return c_H * (H - 0.5) * s ** (0.5 - H) * t ** (H - 0.5) * (t - s) ** (H - 1.5)\n",
    "    \n",
    "    def z_(t,s):\n",
    "        f = lambda u: u**(H-3/2) * (u-s)**(H-0.5)\n",
    "        res = quad(f, s, t, points=[s, t], full_output=1)[0]\n",
    "        res *= - (H-0.5) * s**(0.5 - H)\n",
    "        res += (t/s)**(H-0.5) * (t-s)**(H-1/2)\n",
    "        res *= c_H\n",
    "        return res\n",
    "\n",
    "    if H > 0.5:\n",
    "        z = z_\n",
    "    else:\n",
    "        for _ in range(100):\n",
    "            t = np.random.uniform()\n",
    "            s = np.random.uniform(0, t)\n",
    "            assert np.allclose(z(t,s), z_(t,s)), \"{}, {}\".format(z(t,s), z_(t,s))\n",
    "        \n",
    "    def alpha_raw(t, s):\n",
    "        f = lambda u: z(u, s) * cosh(tau(u))\n",
    "\n",
    "        return quad(f, t, T, points=[t, T], full_output=1)[0]\n",
    "\n",
    "    def overline_alpha_raw(t, s):\n",
    "        f = lambda u: z_prime(u, s)*sinh(tau(u))\n",
    "\n",
    "        return quad(f, t, T, points=[t, T], full_output=1)[0]\n",
    "\n",
    "    #tss = [ (t_, s_)  for t_ in np.linspace(0, T, N)[1:] for s_ in np.linspace(0, t_, N)[1:-1]]\n",
    "    #vss = [overline_alpha_raw(t_,s_) for (t_,s_) in tss ]\n",
    "    #overline_alpha = CloughTocher2DInterpolator(tss, vss)\n",
    "\n",
    "    def beta_raw(t):\n",
    "        f = lambda s: overline_alpha_raw(t,s)**2\n",
    "        #def f(s):\n",
    "        #    if s == 0:\n",
    "        #        return 0\n",
    "        #    else:\n",
    "        #        return z(t, s)*sinh(tau(t)) - alpha_raw(t,s)/np.sqrt(kappa) \n",
    "        return quad(f, 0, t, points=[0, t], full_output=1)[0]\n",
    "\n",
    "    #def fun(u,v,t):\n",
    "    #    res = hyp2f1(2-2*H, 1.5-H, 3+2*H, (u*t - v*t) / (u*v - t*v)) \n",
    "    #    res *= sinh(tau(u)) * sinh(tau(v)) * (u-t)**(2*H - 2) * v**(2*H - 2)\n",
    "    #    res *= t**(2-2*H) / sinh(tau(t))**2\n",
    "    #    res *= 2 * c2_H * (H-0.5)**2 * 0.5/(1-H)\n",
    "    #    return res\n",
    "\n",
    "    #def gfun(t):\n",
    "    #    return min(t + 0.000001, T)\n",
    "    #def qfun(t, v):\n",
    "    #    return min(v + 0.000001, T)\n",
    "\n",
    "    \n",
    "    #ts = np.linspace(0, 1.0, N)\n",
    "    plt.plot(t_span, [alpha_raw(s, s) for s in t_span])\n",
    "    \n",
    "    vs = [beta_raw(t) for t in t_span]\n",
    "    beta = scipy.interpolate.PchipInterpolator(t_span, vs)\n",
    "    plt.plot(t_span, vs)\n",
    "    plt.plot(t_span, beta(t_span))\n",
    "    plt.show()\n",
    "\n",
    "    \n",
    "    # Squared distance term\n",
    "    f = lambda t: beta(t) / sinh(tau(t))**2\n",
    "    sq_dist = 0.5 * quad(f, 0, T, points=[0, T], full_output=1)[0]\n",
    "    #sq_dist = 0.5 * tplquad(fun, 0, T, gfun, T, qfun, T)[0]\n",
    "    \n",
    "    # QV term\n",
    "    f = lambda s: alpha_raw(s, s)**2 / (np.sqrt(kappa) * sinh(tau(s))*cosh(tau(s)))\n",
    "    qv_term = 0.5 * quad(f, 0, T)[0]\n",
    "    \n",
    "    print(\"H: {}, {} + {} = {}\".format(H, sq_dist, qv_term,  qv_term + sq_dist))"
   ]
  },
  {
   "cell_type": "code",
   "execution_count": null,
   "id": "b461bb9a",
   "metadata": {},
   "outputs": [],
   "source": [
    "# kappa: H:\n",
    "benchmarks = {\n",
    "    0.1: {\n",
    "        0.1: 0.27663653270507754,\n",
    "        0.2: 0.2282496038086943,\n",
    "        0.3: 0.1865656463817453,\n",
    "        0.4: 0.1520298508153106,\n",
    "        0.5: 0.12354603195750886,\n",
    "        0.6: 0.09991167815488836,\n",
    "        0.7: 0.08004846852273825,\n",
    "        0.8: 0.06302855712136136,\n",
    "        0.9: 0.048029497236016766,\n",
    "        1.0: 0.035593882482059164,\n",
    "    },\n",
    "    0.01: {\n",
    "        0.1: 0.20085137340115772,\n",
    "        0.2: 0.1428418428389489,\n",
    "        0.3: 0.09954529063458387,\n",
    "        0.4: 0.06849005754875274,\n",
    "        0.5: 0.04653426410750604,\n",
    "        0.6: 0.03114831101100001,\n",
    "        0.7: 0.02044020442056757,\n",
    "        0.8: 0.013037332367746074,\n",
    "        0.9: 0.00795731031703343,\n",
    "        1.0: 0.004788375569560145,\n",
    "    },\n",
    "}"
   ]
  },
  {
   "cell_type": "code",
   "execution_count": null,
   "id": "de28ddb1",
   "metadata": {},
   "outputs": [],
   "source": [
    "# Cases H = 0.5 and H = 1.0\n",
    "#H = 0.5\n",
    "def penalty_value(H, x=0.0):\n",
    "    if H == 0.5:\n",
    "        return 0.5*np.sqrt(kappa)*np.tanh(T / np.sqrt(kappa)) * x**2 \\\n",
    "    + 0.5 * kappa * np.log(np.cosh(T / np.sqrt(kappa)))\n",
    "    elif H == 1.0:\n",
    "        return 0.5*np.sqrt(kappa)*np.tanh(T / np.sqrt(kappa)) * x**2 \\\n",
    "    + 0.5 * kappa * (T - 2 * np.sqrt(kappa) * np.tanh(0.5 * T / np.sqrt(kappa)))\n",
    "    else:\n",
    "        assert \"H = {} is not supported\".format(H)"
   ]
  },
  {
   "cell_type": "code",
   "execution_count": null,
   "id": "8e530d1a",
   "metadata": {},
   "outputs": [],
   "source": [
    "penalty_value(1.0)"
   ]
  },
  {
   "cell_type": "code",
   "execution_count": null,
   "id": "77a66185",
   "metadata": {},
   "outputs": [],
   "source": [
    "f = lambda u: (cosh(tau(t)) - 1)**2/sinh(tau(t))**2"
   ]
  },
  {
   "cell_type": "code",
   "execution_count": null,
   "id": "a9669d65",
   "metadata": {},
   "outputs": [],
   "source": [
    "quad(f, 0, T)[0] * 0.5 * kappa"
   ]
  },
  {
   "cell_type": "code",
   "execution_count": null,
   "id": "c7a901fd",
   "metadata": {},
   "outputs": [],
   "source": []
  }
 ],
 "metadata": {
  "kernelspec": {
   "display_name": "Python 3 (ipykernel)",
   "language": "python",
   "name": "python3"
  },
  "language_info": {
   "codemirror_mode": {
    "name": "ipython",
    "version": 3
   },
   "file_extension": ".py",
   "mimetype": "text/x-python",
   "name": "python",
   "nbconvert_exporter": "python",
   "pygments_lexer": "ipython3",
   "version": "3.9.18"
  }
 },
 "nbformat": 4,
 "nbformat_minor": 5
}
