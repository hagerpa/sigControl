{
 "cells": [
  {
   "cell_type": "code",
   "execution_count": 1,
   "id": "bde5dfe6",
   "metadata": {},
   "outputs": [],
   "source": [
    "import pandas as pd\n",
    "import os\n",
    "import numpy as np\n",
    "import scipy"
   ]
  },
  {
   "cell_type": "code",
   "execution_count": 2,
   "id": "7aaac9ca-bf5f-4bfa-99d4-d9699cf3401a",
   "metadata": {},
   "outputs": [],
   "source": [
    "files = os.listdir('results_server/')\n",
    "filename = \"results_merged/results_2024_05_24\""
   ]
  },
  {
   "cell_type": "code",
   "execution_count": 3,
   "id": "6f98ce48-6b79-4ebf-b591-273a8070d5a1",
   "metadata": {},
   "outputs": [],
   "source": [
    "# MERGING RESULTS\n",
    "files = os.listdir('results_server/')\n",
    "dfs = [\n",
    "    pd.read_pickle('results_server/{}'.format(f))\n",
    "    for f in files\n",
    "    if f[-3:] == 'pkl'\n",
    "]\n",
    "df = pd.concat(dfs, ignore_index=True)\n",
    "df.sort_values(by=['H']).to_csv(filename+\".csv\")\n",
    "df.to_pickle(filename+\".pkl\")"
   ]
  },
  {
   "cell_type": "code",
   "execution_count": 4,
   "id": "fb91f00a",
   "metadata": {},
   "outputs": [],
   "source": [
    "df = pd.read_pickle(filename+\".pkl\")"
   ]
  },
  {
   "cell_type": "code",
   "execution_count": 5,
   "id": "8f5aa698-c6ef-4d0d-9743-249f93f2d5ba",
   "metadata": {},
   "outputs": [
    {
     "data": {
      "text/html": [
       "<div>\n",
       "<style scoped>\n",
       "    .dataframe tbody tr th:only-of-type {\n",
       "        vertical-align: middle;\n",
       "    }\n",
       "\n",
       "    .dataframe tbody tr th {\n",
       "        vertical-align: top;\n",
       "    }\n",
       "\n",
       "    .dataframe thead th {\n",
       "        text-align: right;\n",
       "    }\n",
       "</style>\n",
       "<table border=\"1\" class=\"dataframe\">\n",
       "  <thead>\n",
       "    <tr style=\"text-align: right;\">\n",
       "      <th></th>\n",
       "      <th>dscrt_train</th>\n",
       "      <th>dscrt</th>\n",
       "      <th>N</th>\n",
       "      <th>H</th>\n",
       "      <th>space</th>\n",
       "      <th>nn_hidden</th>\n",
       "      <th>kappa</th>\n",
       "      <th>kappa_T</th>\n",
       "      <th>sigma</th>\n",
       "      <th>initial</th>\n",
       "      <th>...</th>\n",
       "      <th>epochs</th>\n",
       "      <th>max_gb</th>\n",
       "      <th>MC_</th>\n",
       "      <th>sig_comp</th>\n",
       "      <th>save_model</th>\n",
       "      <th>res</th>\n",
       "      <th>err</th>\n",
       "      <th>time</th>\n",
       "      <th>train_time</th>\n",
       "      <th>eval_time</th>\n",
       "    </tr>\n",
       "  </thead>\n",
       "  <tbody>\n",
       "    <tr>\n",
       "      <th>59</th>\n",
       "      <td>100</td>\n",
       "      <td>100</td>\n",
       "      <td>5</td>\n",
       "      <td>0.25</td>\n",
       "      <td>log</td>\n",
       "      <td>2</td>\n",
       "      <td>0.001</td>\n",
       "      <td>0.1</td>\n",
       "      <td>0.02</td>\n",
       "      <td>1.0</td>\n",
       "      <td>...</td>\n",
       "      <td>31</td>\n",
       "      <td>128</td>\n",
       "      <td>131072</td>\n",
       "      <td>tX</td>\n",
       "      <td>True</td>\n",
       "      <td>-0.487299</td>\n",
       "      <td>0.003919</td>\n",
       "      <td>2024-05-23 22:07:31</td>\n",
       "      <td>4360.878346</td>\n",
       "      <td>14.927224</td>\n",
       "    </tr>\n",
       "    <tr>\n",
       "      <th>17</th>\n",
       "      <td>100</td>\n",
       "      <td>100</td>\n",
       "      <td>5</td>\n",
       "      <td>0.25</td>\n",
       "      <td>sig</td>\n",
       "      <td>0</td>\n",
       "      <td>0.001</td>\n",
       "      <td>0.1</td>\n",
       "      <td>0.02</td>\n",
       "      <td>1.0</td>\n",
       "      <td>...</td>\n",
       "      <td>31</td>\n",
       "      <td>128</td>\n",
       "      <td>131072</td>\n",
       "      <td>tX</td>\n",
       "      <td>True</td>\n",
       "      <td>-0.474687</td>\n",
       "      <td>0.003970</td>\n",
       "      <td>2024-05-23 21:50:51</td>\n",
       "      <td>3216.166658</td>\n",
       "      <td>17.256055</td>\n",
       "    </tr>\n",
       "    <tr>\n",
       "      <th>70</th>\n",
       "      <td>100</td>\n",
       "      <td>100</td>\n",
       "      <td>4</td>\n",
       "      <td>0.25</td>\n",
       "      <td>log</td>\n",
       "      <td>2</td>\n",
       "      <td>0.001</td>\n",
       "      <td>0.1</td>\n",
       "      <td>0.02</td>\n",
       "      <td>1.0</td>\n",
       "      <td>...</td>\n",
       "      <td>31</td>\n",
       "      <td>128</td>\n",
       "      <td>131072</td>\n",
       "      <td>tX</td>\n",
       "      <td>True</td>\n",
       "      <td>-0.474041</td>\n",
       "      <td>0.003948</td>\n",
       "      <td>2024-05-23 20:54:38</td>\n",
       "      <td>3096.819924</td>\n",
       "      <td>8.002649</td>\n",
       "    </tr>\n",
       "    <tr>\n",
       "      <th>54</th>\n",
       "      <td>100</td>\n",
       "      <td>100</td>\n",
       "      <td>4</td>\n",
       "      <td>0.25</td>\n",
       "      <td>sig</td>\n",
       "      <td>0</td>\n",
       "      <td>0.001</td>\n",
       "      <td>0.1</td>\n",
       "      <td>0.02</td>\n",
       "      <td>1.0</td>\n",
       "      <td>...</td>\n",
       "      <td>31</td>\n",
       "      <td>128</td>\n",
       "      <td>131072</td>\n",
       "      <td>tX</td>\n",
       "      <td>True</td>\n",
       "      <td>-0.466424</td>\n",
       "      <td>0.003904</td>\n",
       "      <td>2024-05-23 20:42:35</td>\n",
       "      <td>2224.403303</td>\n",
       "      <td>10.445088</td>\n",
       "    </tr>\n",
       "    <tr>\n",
       "      <th>35</th>\n",
       "      <td>100</td>\n",
       "      <td>100</td>\n",
       "      <td>3</td>\n",
       "      <td>0.25</td>\n",
       "      <td>log</td>\n",
       "      <td>2</td>\n",
       "      <td>0.001</td>\n",
       "      <td>0.1</td>\n",
       "      <td>0.02</td>\n",
       "      <td>1.0</td>\n",
       "      <td>...</td>\n",
       "      <td>31</td>\n",
       "      <td>128</td>\n",
       "      <td>131072</td>\n",
       "      <td>tX</td>\n",
       "      <td>True</td>\n",
       "      <td>-0.451988</td>\n",
       "      <td>0.003964</td>\n",
       "      <td>2024-05-23 20:05:08</td>\n",
       "      <td>3279.986100</td>\n",
       "      <td>7.865438</td>\n",
       "    </tr>\n",
       "    <tr>\n",
       "      <th>29</th>\n",
       "      <td>100</td>\n",
       "      <td>100</td>\n",
       "      <td>3</td>\n",
       "      <td>0.25</td>\n",
       "      <td>sig</td>\n",
       "      <td>0</td>\n",
       "      <td>0.001</td>\n",
       "      <td>0.1</td>\n",
       "      <td>0.02</td>\n",
       "      <td>1.0</td>\n",
       "      <td>...</td>\n",
       "      <td>31</td>\n",
       "      <td>128</td>\n",
       "      <td>131072</td>\n",
       "      <td>tX</td>\n",
       "      <td>True</td>\n",
       "      <td>-0.445067</td>\n",
       "      <td>0.004001</td>\n",
       "      <td>2024-05-23 19:37:42</td>\n",
       "      <td>1500.230585</td>\n",
       "      <td>6.776317</td>\n",
       "    </tr>\n",
       "    <tr>\n",
       "      <th>40</th>\n",
       "      <td>100</td>\n",
       "      <td>100</td>\n",
       "      <td>2</td>\n",
       "      <td>0.25</td>\n",
       "      <td>log</td>\n",
       "      <td>2</td>\n",
       "      <td>0.001</td>\n",
       "      <td>0.1</td>\n",
       "      <td>0.02</td>\n",
       "      <td>1.0</td>\n",
       "      <td>...</td>\n",
       "      <td>31</td>\n",
       "      <td>128</td>\n",
       "      <td>131072</td>\n",
       "      <td>tX</td>\n",
       "      <td>True</td>\n",
       "      <td>-0.306026</td>\n",
       "      <td>0.004195</td>\n",
       "      <td>2024-05-23 19:17:59</td>\n",
       "      <td>2994.289453</td>\n",
       "      <td>7.839028</td>\n",
       "    </tr>\n",
       "    <tr>\n",
       "      <th>37</th>\n",
       "      <td>100</td>\n",
       "      <td>100</td>\n",
       "      <td>2</td>\n",
       "      <td>0.25</td>\n",
       "      <td>sig</td>\n",
       "      <td>0</td>\n",
       "      <td>0.001</td>\n",
       "      <td>0.1</td>\n",
       "      <td>0.02</td>\n",
       "      <td>1.0</td>\n",
       "      <td>...</td>\n",
       "      <td>31</td>\n",
       "      <td>128</td>\n",
       "      <td>131072</td>\n",
       "      <td>tX</td>\n",
       "      <td>True</td>\n",
       "      <td>-0.297740</td>\n",
       "      <td>0.004218</td>\n",
       "      <td>2024-05-23 18:53:03</td>\n",
       "      <td>1413.261834</td>\n",
       "      <td>4.940678</td>\n",
       "    </tr>\n",
       "    <tr>\n",
       "      <th>60</th>\n",
       "      <td>100</td>\n",
       "      <td>100</td>\n",
       "      <td>1</td>\n",
       "      <td>0.25</td>\n",
       "      <td>log</td>\n",
       "      <td>2</td>\n",
       "      <td>0.001</td>\n",
       "      <td>0.1</td>\n",
       "      <td>0.02</td>\n",
       "      <td>1.0</td>\n",
       "      <td>...</td>\n",
       "      <td>31</td>\n",
       "      <td>128</td>\n",
       "      <td>131072</td>\n",
       "      <td>tX</td>\n",
       "      <td>True</td>\n",
       "      <td>-0.010422</td>\n",
       "      <td>0.003477</td>\n",
       "      <td>2024-05-23 18:17:17</td>\n",
       "      <td>2449.090202</td>\n",
       "      <td>6.031278</td>\n",
       "    </tr>\n",
       "    <tr>\n",
       "      <th>55</th>\n",
       "      <td>100</td>\n",
       "      <td>100</td>\n",
       "      <td>1</td>\n",
       "      <td>0.25</td>\n",
       "      <td>sig</td>\n",
       "      <td>0</td>\n",
       "      <td>0.001</td>\n",
       "      <td>0.1</td>\n",
       "      <td>0.02</td>\n",
       "      <td>1.0</td>\n",
       "      <td>...</td>\n",
       "      <td>31</td>\n",
       "      <td>128</td>\n",
       "      <td>131072</td>\n",
       "      <td>tX</td>\n",
       "      <td>True</td>\n",
       "      <td>0.000573</td>\n",
       "      <td>0.003493</td>\n",
       "      <td>2024-05-23 17:50:39</td>\n",
       "      <td>974.846714</td>\n",
       "      <td>3.612362</td>\n",
       "    </tr>\n",
       "  </tbody>\n",
       "</table>\n",
       "<p>10 rows × 28 columns</p>\n",
       "</div>"
      ],
      "text/plain": [
       "    dscrt_train  dscrt  N     H space  nn_hidden  kappa  kappa_T  sigma  \\\n",
       "59          100    100  5  0.25   log          2  0.001      0.1   0.02   \n",
       "17          100    100  5  0.25   sig          0  0.001      0.1   0.02   \n",
       "70          100    100  4  0.25   log          2  0.001      0.1   0.02   \n",
       "54          100    100  4  0.25   sig          0  0.001      0.1   0.02   \n",
       "35          100    100  3  0.25   log          2  0.001      0.1   0.02   \n",
       "29          100    100  3  0.25   sig          0  0.001      0.1   0.02   \n",
       "40          100    100  2  0.25   log          2  0.001      0.1   0.02   \n",
       "37          100    100  2  0.25   sig          0  0.001      0.1   0.02   \n",
       "60          100    100  1  0.25   log          2  0.001      0.1   0.02   \n",
       "55          100    100  1  0.25   sig          0  0.001      0.1   0.02   \n",
       "\n",
       "    initial  ... epochs  max_gb     MC_ sig_comp  save_model       res  \\\n",
       "59      1.0  ...     31     128  131072       tX        True -0.487299   \n",
       "17      1.0  ...     31     128  131072       tX        True -0.474687   \n",
       "70      1.0  ...     31     128  131072       tX        True -0.474041   \n",
       "54      1.0  ...     31     128  131072       tX        True -0.466424   \n",
       "35      1.0  ...     31     128  131072       tX        True -0.451988   \n",
       "29      1.0  ...     31     128  131072       tX        True -0.445067   \n",
       "40      1.0  ...     31     128  131072       tX        True -0.306026   \n",
       "37      1.0  ...     31     128  131072       tX        True -0.297740   \n",
       "60      1.0  ...     31     128  131072       tX        True -0.010422   \n",
       "55      1.0  ...     31     128  131072       tX        True  0.000573   \n",
       "\n",
       "         err                time   train_time  eval_time  \n",
       "59  0.003919 2024-05-23 22:07:31  4360.878346  14.927224  \n",
       "17  0.003970 2024-05-23 21:50:51  3216.166658  17.256055  \n",
       "70  0.003948 2024-05-23 20:54:38  3096.819924   8.002649  \n",
       "54  0.003904 2024-05-23 20:42:35  2224.403303  10.445088  \n",
       "35  0.003964 2024-05-23 20:05:08  3279.986100   7.865438  \n",
       "29  0.004001 2024-05-23 19:37:42  1500.230585   6.776317  \n",
       "40  0.004195 2024-05-23 19:17:59  2994.289453   7.839028  \n",
       "37  0.004218 2024-05-23 18:53:03  1413.261834   4.940678  \n",
       "60  0.003477 2024-05-23 18:17:17  2449.090202   6.031278  \n",
       "55  0.003493 2024-05-23 17:50:39   974.846714   3.612362  \n",
       "\n",
       "[10 rows x 28 columns]"
      ]
     },
     "execution_count": 5,
     "metadata": {},
     "output_type": "execute_result"
    }
   ],
   "source": [
    "df[df[\"H\"]==0.25].sort_values(by=[\"res\"])"
   ]
  },
  {
   "cell_type": "code",
   "execution_count": 8,
   "id": "172c3d76-3af9-43b5-8120-461ec2e4b687",
   "metadata": {},
   "outputs": [
    {
     "name": "stdout",
     "output_type": "stream",
     "text": [
      "  &  $H$ &  0.0625 &  0.125 &  0.25 &  0.5 &  0.75 &  1.0  \\\\\n",
      "\\hline\n",
      "\\multirow{ 5 }{*}{ $\\mathcal{A}_{ sig }$ }& $N = 1$  & 0.032 & 0.018 & -0.001 & -0.007 & -0.001 & 0.011  \\\\ \n",
      "& $N = 2$  & 1.356 & 0.842 & 0.298 & 0.001 & 0.162 & 0.532  \\\\ \n",
      "& $N = 3$  & 2.470 & 1.437 & 0.445 & -0.001 & 0.193 & 0.674  \\\\ \n",
      "& $N = 4$  & 2.545 & 1.503 & 0.466 & -0.003 & 0.200 & 0.667  \\\\ \n",
      "& $N = 5$  & 2.585 & 1.538 & 0.475 & -0.005 & 0.202 & 0.667  \\\\ \n",
      "\\hline\n",
      "\\multirow{ 5 }{*}{ $\\mathcal{A}_{ log }$ }& $N = 1$  & 0.034 & 0.028 & 0.010 & -0.003 & 0.016 & 0.791  \\\\ \n",
      "& $N = 2$  & 1.388 & 0.873 & 0.306 & \\textbf{ 0.005 } & 0.186 & 0.807  \\\\ \n",
      "& $N = 3$  & 2.539 & 1.471 & 0.452 & -0.003 & 0.204 & \\textbf{ 0.825 }  \\\\ \n",
      "& $N = 4$  & 2.617 & 1.540 & 0.474 & -0.004 & \\textbf{ 0.212 } & 0.807  \\\\ \n",
      "& $N = 5$  & \\textbf{ 2.670 } & \\textbf{ 1.578 } & \\textbf{ 0.487 } & -0.005 & 0.205 & 0.797  \\\\ \n"
     ]
    }
   ],
   "source": [
    "# H in collumns's\n",
    "\n",
    "discrt = 100\n",
    "mode = ['tX']\n",
    "space = ['sig', 'log']\n",
    "N_range = [1,2,3,4,5]\n",
    "#H_range = [.1,.2,.3,.5,.8,1.0]\n",
    "H_range = [1.0/16,1.0/8,1.0/4,1.0/2,3.0/4,1.0]\n",
    "\n",
    "df_ = df.query('dscrt == @discrt and N in @N_range and sig_comp in @mode and space in @space')\n",
    "df_ = df_.sort_values(by=['sig_comp','N', 'H'], ascending=[False, True, True])\n",
    "\n",
    "best_values = { \n",
    "    H: df_.query(\"H == @H\")[\"res\"].dropna().to_numpy().min().round(3)\n",
    "    for H in H_range\n",
    "}\n",
    "\n",
    "# First row\n",
    "print('  &  $H$', end=' ')\n",
    "for H in H_range:\n",
    "    print('&  {}'.format(H), end=' ')\n",
    "print(' \\\\\\\\')\n",
    "\n",
    "\n",
    "for spc in space:\n",
    "    print('\\\\hline')\n",
    "    print(r\"\\multirow{{ {} }}{{*}}{{ $\\mathcal{{A}}_{{ {} }}$ }}\".format(len(N_range), spc), end='')\n",
    "    for N in N_range:\n",
    "        print('& $N = {}$ '.format(N), end=' ')\n",
    "\n",
    "        for H in H_range:\n",
    "            res = df_.query(\"N == @N and space == @spc and H == @H\")[[\"res\", \"err\"]]\n",
    "                \n",
    "            if len(res) == 0:\n",
    "                print('&      ', end=' ')\n",
    "            else:\n",
    "                v = res[\"res\"].to_numpy()[0]\n",
    "                if v.round(3) == best_values[H]:\n",
    "                    print('& \\\\textbf{{ {:0.3f} }}'.format(-v), end=' ')\n",
    "                else:\n",
    "                    print('& {:0.3f}'.format(-v), end=' ')\n",
    "        \n",
    "        print(' \\\\\\\\ ')"
   ]
  },
  {
   "cell_type": "code",
   "execution_count": null,
   "id": "77ceb1b0-bd02-4f4a-8dd6-83c094269701",
   "metadata": {},
   "outputs": [],
   "source": []
  },
  {
   "cell_type": "code",
   "execution_count": null,
   "id": "5e679f6a-fa1f-477a-aca4-dc805f512750",
   "metadata": {},
   "outputs": [],
   "source": []
  },
  {
   "cell_type": "code",
   "execution_count": null,
   "id": "4c183ac5-f289-4726-b005-8fa569fa7650",
   "metadata": {},
   "outputs": [],
   "source": []
  },
  {
   "cell_type": "code",
   "execution_count": null,
   "id": "1966a8e2-49eb-408d-b19b-f0d99565f70f",
   "metadata": {},
   "outputs": [],
   "source": []
  },
  {
   "cell_type": "code",
   "execution_count": null,
   "id": "2a72b413-caee-4a55-80c1-d98fdc5190da",
   "metadata": {},
   "outputs": [],
   "source": []
  },
  {
   "cell_type": "code",
   "execution_count": 8,
   "id": "480c4c44-3668-4197-b6ab-8cf45f2f0f86",
   "metadata": {},
   "outputs": [
    {
     "name": "stdout",
     "output_type": "stream",
     "text": [
      "& $N = 1$  & $N = 2$  & $N = 3$  & $N = 4$  & $N = 1$  & $N = 2$  & $N = 3$  & $N = 4$   \\\\ \n",
      "1/4 & 0.708 & 29.816 & 44.379 & \\textbf{ 44.724 } & 1.120 & 30.420 & 35.701 & 37.984  \\\\ \n",
      "1/3 & 0.276 & 11.691 & 16.063 & \\textbf{ 16.087 } & 0.471 & 11.944 & 13.142 & 13.082  \\\\ \n",
      "1/2 & 0.005 & 0.002 & 0.009 & \\textbf{ 0.025 } & -0.016 & 0.011 & -0.040 & -0.004  \\\\ \n",
      "7/10 & 0.210 & 10.918 & \\textbf{ 13.128 } & 12.910 & 1.048 & 11.197 & 11.826 & 11.470  \\\\ \n",
      "9/10 & 0.777 & 36.820 & \\textbf{ 45.518 } & 44.799 & 8.810 & 39.988 & 40.322 & 40.418  \\\\ \n",
      "1 & 1.105 & 53.220 & 68.073 & 74.267 & 71.620 & 73.737 & 74.919 & \\textbf{ 75.497 }  \\\\ \n"
     ]
    }
   ],
   "source": [
    "discrt = 100\n",
    "space = ['sig', 'log']\n",
    "Ns = [1, 2, 3, 4]\n",
    "\n",
    "df_ = df.query('dscrt == @discrt and N in @Ns and space in @space')\n",
    "df_ = df_.sort_values(by=['sig_comp', 'N'], ascending=[False, True])\n",
    "\n",
    "for H in [-1, 1/4, 1/3, 1/2, 0.7, 0.9, 1.0]:\n",
    "    \n",
    "    if H >= 0:\n",
    "        filt = df_.query(\"H == {}\".format(H))[[\"H\", \"N\", \"res\", \"err\", \"space\"]]\n",
    "        values = filt[\"res\"].to_numpy().round(3)\n",
    "        v_min = filt[\"res\"].dropna().to_numpy().min().round(4)\n",
    "        if H == 1/3:\n",
    "            print(\"1/3\", end=' ')\n",
    "        elif H == 1.0:\n",
    "            print(\"1\", end=' ')\n",
    "        elif H > 1/2:\n",
    "            print(\"{}/{}\".format(int(H*10), 10), end=' ')\n",
    "        else:\n",
    "            print(\"{}/{}\".format(*H.as_integer_ratio()), end = ' ')\n",
    "        \n",
    "\n",
    "    for spc in space:\n",
    "        for N in Ns:\n",
    "            if H == -1:\n",
    "                print('& $N = {}$ '.format(N), end=' ')\n",
    "            else:\n",
    "                res = filt.query(\"N == @N and space == @spc\")[\"res\"]\n",
    "                if len(res) == 0:\n",
    "                    print('&      ', end=' ')\n",
    "                else:\n",
    "                    v = res.to_numpy()[0].round(4)\n",
    "                    v_rel = -v #100*(-v - twap)/twap \n",
    "                    if v == v_min:\n",
    "                        print('& \\\\textbf{{ {:0.3f} }}'.format(v_rel), end=' ')\n",
    "                    else:\n",
    "                        print('& {:0.3f}'.format(v_rel), end=' ')\n",
    "    if False:\n",
    "        if H == -1:\n",
    "            print('& bm ', end=' ')\n",
    "        elif H == 1/3:\n",
    "            print('& {:0.3f} '.format(0.4144001982160647), end=' ')\n",
    "        elif H == 0.7:\n",
    "            print('& {:0.3f} '.format(2.1403790882061484), end=' ')\n",
    "                        \n",
    "    print(' \\\\\\\\ ')"
   ]
  },
  {
   "cell_type": "code",
   "execution_count": 18,
   "id": "2c19491b-685b-4dcb-a688-67f0f31d650e",
   "metadata": {},
   "outputs": [
    {
     "data": {
      "text/plain": [
       "3.0029732408325072e-05"
      ]
     },
     "execution_count": 18,
     "metadata": {},
     "output_type": "execute_result"
    }
   ],
   "source": [
    "100 * 3*10**(-7) / twap"
   ]
  },
  {
   "cell_type": "code",
   "execution_count": 19,
   "id": "50386018-2b42-4d99-98fb-9b4bd91e02f5",
   "metadata": {},
   "outputs": [
    {
     "data": {
      "text/plain": [
       "(0.4144001982160647, 2.1403790882061484)"
      ]
     },
     "execution_count": 19,
     "metadata": {},
     "output_type": "execute_result"
    }
   ],
   "source": [
    "bench03 = 1.0031498\n",
    "bench07 = 1.0203925\n",
    "\n",
    "100 * (bench03 - twap) / twap, 100 * (bench07 - twap) / twap"
   ]
  },
  {
   "cell_type": "code",
   "execution_count": null,
   "id": "16d906b8-fe90-4ae3-a300-58adff065167",
   "metadata": {},
   "outputs": [],
   "source": []
  },
  {
   "cell_type": "markdown",
   "id": "009fcd83-4634-4d05-8ce8-9a9f48a7cd87",
   "metadata": {},
   "source": [
    "# TWAP"
   ]
  },
  {
   "cell_type": "code",
   "execution_count": 21,
   "id": "89a85acc-8fae-48aa-a9cc-bd5eb2630a26",
   "metadata": {},
   "outputs": [],
   "source": [
    "import torch\n",
    "\n",
    "from signature_control.examples.control.optimal_execution.run import loss_fn, rde_model, new_batch, params, update_params\n",
    "from signature_control.examples.control.strategies import TimeWeightedAverage\n",
    "from signature_control.examples.control.run_environment import run"
   ]
  },
  {
   "cell_type": "raw",
   "id": "9fc791b8-6002-469d-b4e1-6bac8bb612c2",
   "metadata": {},
   "source": [
    "# MERGING RESULTS\n",
    "files = os.listdir('results_local/')\n",
    "dfs = [\n",
    "    pd.read_pickle('results_local/{}'.format(f))\n",
    "    for f in files\n",
    "    #if f[-7:] == 'sig.pkl'\n",
    "]\n",
    "df = pd.concat(dfs, ignore_index=True)\n",
    "file_name = \"results_twap_2024_02_12\"\n",
    "df.to_pickle('results_merged/'+file_name+'.pkl')\n",
    "df.sort_values(by=['H']).to_csv('results_merged/'+file_name+'.csv')"
   ]
  },
  {
   "cell_type": "code",
   "execution_count": null,
   "id": "d37ceb3c-9e38-4301-9a2e-08792a797fec",
   "metadata": {},
   "outputs": [],
   "source": []
  },
  {
   "cell_type": "code",
   "execution_count": 17,
   "id": "21866336-3fe5-4ce2-9bcc-c176e3029e19",
   "metadata": {},
   "outputs": [
    {
     "data": {
      "text/plain": [
       "(0.999009900990099, 0.9900990099009901)"
      ]
     },
     "execution_count": 17,
     "metadata": {},
     "output_type": "execute_result"
    }
   ],
   "source": [
    "x0 = 1.0\n",
    "q0 = 1.0\n",
    "T = 1.0\n",
    "kappa = 0.001\n",
    "kappa_T = 0.1\n",
    "\n",
    "twap = x0*q0 - q0**2 * kappa * kappa_T / (kappa + T*kappa_T)\n",
    "alpha = q0 * T * kappa_T / (kappa + T*kappa_T)\n",
    "twap, alpha"
   ]
  },
  {
   "cell_type": "code",
   "execution_count": 51,
   "id": "3999a772-ea6e-4e8c-bc87-bf6b2c4b190a",
   "metadata": {},
   "outputs": [],
   "source": [
    "import torch"
   ]
  },
  {
   "cell_type": "code",
   "execution_count": 56,
   "id": "870db828-e789-4ca7-8910-febe8d15c912",
   "metadata": {},
   "outputs": [
    {
     "data": {
      "text/plain": [
       "tensor([0.0345, 0.1379, 0.2414, 0.3448, 0.4483, 0.5517, 0.6552, 0.7586, 0.8621,\n",
       "        0.9655])"
      ]
     },
     "execution_count": 56,
     "metadata": {},
     "output_type": "execute_result"
    }
   ],
   "source": [
    "a = torch.linspace(0, 1, 30).reshape(10,3)\n",
    "\n",
    "a.mean(dim=1)"
   ]
  },
  {
   "cell_type": "code",
   "execution_count": null,
   "id": "7715e9a5-dc38-48ed-a0d5-72b53fd52ee1",
   "metadata": {},
   "outputs": [],
   "source": []
  },
  {
   "cell_type": "code",
   "execution_count": null,
   "id": "1103c186-683f-4719-b124-51c8ce24fdcc",
   "metadata": {},
   "outputs": [],
   "source": []
  },
  {
   "cell_type": "code",
   "execution_count": null,
   "id": "378c9e50-6834-404b-9328-b6a256b1a811",
   "metadata": {},
   "outputs": [],
   "source": []
  },
  {
   "cell_type": "code",
   "execution_count": 3,
   "id": "9ab6a3c5-fec6-4c13-941e-9461c4b3dd20",
   "metadata": {},
   "outputs": [],
   "source": [
    "import iisignature\n",
    "import numpy as np"
   ]
  },
  {
   "cell_type": "code",
   "execution_count": 9,
   "id": "c336a78e-0513-4b1a-b84b-ebe1b5d0cdff",
   "metadata": {},
   "outputs": [],
   "source": [
    "X = np.random.randn(1000, 100, 2)"
   ]
  },
  {
   "cell_type": "code",
   "execution_count": 11,
   "id": "d48455fe-2f89-44d1-af33-52590f2ddd57",
   "metadata": {},
   "outputs": [
    {
     "data": {
      "text/plain": [
       "(1000, 2)"
      ]
     },
     "execution_count": 11,
     "metadata": {},
     "output_type": "execute_result"
    }
   ],
   "source": [
    "iisignature.sig(X, 1).shape"
   ]
  },
  {
   "cell_type": "code",
   "execution_count": 8,
   "id": "9eb95fde-1af8-4bd3-bc20-f001838f12db",
   "metadata": {},
   "outputs": [],
   "source": [
    "import torch"
   ]
  },
  {
   "cell_type": "code",
   "execution_count": 30,
   "id": "80a97004-04e5-4042-9f5d-07cc82c01fea",
   "metadata": {},
   "outputs": [
    {
     "data": {
      "text/plain": [
       "('self',\n",
       " 'params',\n",
       " 'lr',\n",
       " 'max_iter',\n",
       " 'max_eval',\n",
       " 'tolerance_grad',\n",
       " 'tolerance_change',\n",
       " 'history_size',\n",
       " 'line_search_fn',\n",
       " 'defaults')"
      ]
     },
     "execution_count": 30,
     "metadata": {},
     "output_type": "execute_result"
    }
   ],
   "source": []
  },
  {
   "cell_type": "code",
   "execution_count": null,
   "id": "06791e6e-37eb-4436-b492-d102da85b776",
   "metadata": {},
   "outputs": [],
   "source": []
  }
 ],
 "metadata": {
  "kernelspec": {
   "display_name": "Python 3 (ipykernel)",
   "language": "python",
   "name": "python3"
  },
  "language_info": {
   "codemirror_mode": {
    "name": "ipython",
    "version": 3
   },
   "file_extension": ".py",
   "mimetype": "text/x-python",
   "name": "python",
   "nbconvert_exporter": "python",
   "pygments_lexer": "ipython3",
   "version": "3.11.5"
  }
 },
 "nbformat": 4,
 "nbformat_minor": 5
}
