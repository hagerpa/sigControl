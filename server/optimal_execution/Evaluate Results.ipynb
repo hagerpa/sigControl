{
 "cells": [
  {
   "cell_type": "code",
   "execution_count": 1,
   "id": "75bcedcf-e92f-4d98-81c0-9c047e56216a",
   "metadata": {},
   "outputs": [],
   "source": [
    "import pandas as pd\n",
    "import os\n",
    "import numpy as np\n",
    "import scipy"
   ]
  },
  {
   "cell_type": "code",
   "execution_count": 2,
   "id": "7aaac9ca-bf5f-4bfa-99d4-d9699cf3401a",
   "metadata": {},
   "outputs": [],
   "source": [
    "files = os.listdir('results_server/')\n",
    "filename = \"results_merged/results_2024_05_25\""
   ]
  },
  {
   "cell_type": "code",
   "execution_count": 3,
   "id": "d1d6d88c-0c02-4f78-b4fd-8499cb511385",
   "metadata": {},
   "outputs": [],
   "source": [
    "# MERGING RESULTS\n",
    "files = os.listdir('results_server/')\n",
    "dfs = [\n",
    "    pd.read_pickle('results_server/{}'.format(f))\n",
    "    for f in files\n",
    "    if f[-3:] == 'pkl'\n",
    "]\n",
    "df = pd.concat(dfs, ignore_index=True)\n",
    "df.sort_values(by=['H']).to_csv(filename+\".csv\")\n",
    "df.to_pickle(filename+\".pkl\")"
   ]
  },
  {
   "cell_type": "code",
   "execution_count": 4,
   "id": "fb91f00a",
   "metadata": {},
   "outputs": [
    {
     "data": {
      "text/plain": [
       "0.0009547912626049068"
      ]
     },
     "execution_count": 4,
     "metadata": {},
     "output_type": "execute_result"
    }
   ],
   "source": [
    "df = pd.read_pickle(filename+\".pkl\")\n",
    "#df[df[\"H\"]==0.25].sort_values(by=[\"res\"])\n",
    "df[\"err\"].max()"
   ]
  },
  {
   "cell_type": "code",
   "execution_count": 5,
   "id": "172c3d76-3af9-43b5-8120-461ec2e4b687",
   "metadata": {},
   "outputs": [
    {
     "name": "stdout",
     "output_type": "stream",
     "text": [
      "  &  $H$ &  0.0625 &  0.125 &  0.25 &  0.5 &  0.75 &  1.0  \\\\\n",
      "\\hline\n",
      "\\multirow{ 5 }{*}{ $\\mathcal{A}_{ sig }$ }& $N = 1$  & 0.03 & 0.02 & 0.01 & \\textbf{ 0.00 } & 0.00 & 0.01  \\\\ \n",
      "& $N = 2$  & 1.36 & 0.85 & 0.30 & \\textbf{ 0.00 } & 0.16 & 0.53  \\\\ \n",
      "& $N = 3$  & \\textbf{ 2.47 } & \\textbf{ 1.45 } & \\textbf{ 0.44 } & \\textbf{ -0.00 } & \\textbf{ 0.20 } & 0.68  \\\\ \n",
      "& $N = 4$  &       &       &       &       &       &        \\\\ \n",
      "& $N = 5$  &       &       &       &       &       &        \\\\ \n",
      "\\hline\n",
      "\\multirow{ 5 }{*}{ $\\mathcal{A}_{ log }$ }& $N = 1$  & 0.03 & 0.02 & 0.01 & \\textbf{ -0.00 } & 0.02 & 0.66  \\\\ \n",
      "& $N = 2$  & 1.37 & 0.84 & 0.30 & \\textbf{ -0.00 } & 0.16 & \\textbf{ 0.71 }  \\\\ \n",
      "& $N = 3$  & 2.03 & 1.20 &       &       &       &        \\\\ \n",
      "& $N = 4$  &       &       &       &       &       &        \\\\ \n",
      "& $N = 5$  &       &       &       &       &       &        \\\\ \n"
     ]
    }
   ],
   "source": [
    "# H in collumns's\n",
    "\n",
    "discrt = 100\n",
    "mode = ['tX']\n",
    "space = ['sig', 'log']\n",
    "N_range = [1,2,3,4,5]\n",
    "#H_range = [.1,.2,.3,.5,.8,1.0]\n",
    "H_range = [1.0/16,1.0/8,1.0/4,1.0/2,3.0/4,1.0]\n",
    "\n",
    "df_ = df.query('dscrt == @discrt and N in @N_range and sig_comp in @mode and space in @space')\n",
    "df_ = df_.sort_values(by=['sig_comp','N', 'H'], ascending=[False, True, True])\n",
    "\n",
    "best_values = { \n",
    "    H: df_.query(\"H == @H\")[\"res\"].dropna().to_numpy().min().round(2)\n",
    "    for H in H_range\n",
    "}\n",
    "\n",
    "# First row\n",
    "print('  &  $H$', end=' ')\n",
    "for H in H_range:\n",
    "    print('&  {}'.format(H), end=' ')\n",
    "print(' \\\\\\\\')\n",
    "\n",
    "\n",
    "for spc in space:\n",
    "    print('\\\\hline')\n",
    "    print(r\"\\multirow{{ {} }}{{*}}{{ $\\mathcal{{A}}_{{ {} }}$ }}\".format(len(N_range), spc), end='')\n",
    "    for N in N_range:\n",
    "        print('& $N = {}$ '.format(N), end=' ')\n",
    "\n",
    "        for H in H_range:\n",
    "            res = df_.query(\"N == @N and space == @spc and H == @H\")[[\"res\", \"err\"]]\n",
    "                \n",
    "            if len(res) == 0:\n",
    "                print('&      ', end=' ')\n",
    "            else:\n",
    "                v = res[\"res\"].to_numpy()[0]\n",
    "                if v.round(2) == best_values[H]:\n",
    "                    print('& \\\\textbf{{ {:0.2f} }}'.format(-v), end=' ')\n",
    "                else:\n",
    "                    print('& {:0.2f}'.format(-v), end=' ')\n",
    "        \n",
    "        print(' \\\\\\\\ ')"
   ]
  },
  {
   "cell_type": "code",
   "execution_count": null,
   "id": "77ceb1b0-bd02-4f4a-8dd6-83c094269701",
   "metadata": {},
   "outputs": [],
   "source": []
  },
  {
   "cell_type": "markdown",
   "id": "45e8752a-f602-4e08-a4a8-56b9edaafcc6",
   "metadata": {},
   "source": [
    "## Linearized Results"
   ]
  },
  {
   "cell_type": "code",
   "execution_count": 22,
   "id": "4dd5ffaf-182b-4143-b00c-b98b6af85834",
   "metadata": {},
   "outputs": [],
   "source": [
    "filename_lin = \"results_merged/results_linearized_2024_05_24\""
   ]
  },
  {
   "cell_type": "raw",
   "id": "d875cc83-f128-4f5c-a38c-4b1c63c77f6d",
   "metadata": {},
   "source": [
    "# MERGING RESULTS\n",
    "path = '../../../optimal_execution/src/results/'\n",
    "files = os.listdir(path)\n",
    "dfs = [\n",
    "    pd.read_pickle(path+'{}'.format(f))\n",
    "    for f in files\n",
    "    if f[-3:] == 'pkl'\n",
    "]\n",
    "df_lin = pd.concat(dfs, ignore_index=True)\n",
    "df_lin.sort_values(by=['H']).to_csv(filename+\".csv\")\n",
    "df_lin.to_pickle(filename_lin+\".pkl\")"
   ]
  },
  {
   "cell_type": "code",
   "execution_count": 26,
   "id": "59329621-c4af-4c0b-9a5b-7ec183a8b5c1",
   "metadata": {},
   "outputs": [
    {
     "data": {
      "text/plain": [
       "0.0041575183724326505"
      ]
     },
     "execution_count": 26,
     "metadata": {},
     "output_type": "execute_result"
    }
   ],
   "source": [
    "df_lin = pd.read_pickle(filename_lin+\".pkl\")\n",
    "#df[df[\"H\"]==0.25].sort_values(by=[\"res\"])\n",
    "df_lin[\"err\"].max()"
   ]
  },
  {
   "cell_type": "code",
   "execution_count": 31,
   "id": "4489a376-c9ca-4991-ba81-3e00818b177f",
   "metadata": {},
   "outputs": [
    {
     "name": "stdout",
     "output_type": "stream",
     "text": [
      "  &  $H$ &  0.0625 &  0.125 &  0.25 &  0.5 &  0.75 &  1.0  \\\\\n",
      "\\hline\n",
      "\\multirow{ 4 }{*}{ $\\mathcal{A}_{ lin }$ }& $N = 1$  & 0.03 & 0.02 & -0.00 & -0.00 & 0.02 & 0.01  \\\\ \n",
      "& $N = 2$  & 1.39 & 0.84 & 0.30 & 0.01 & 0.16 & 0.81  \\\\ \n",
      "& $N = 3$  & 2.47 & 1.44 & 0.45 & -0.00 & 0.20 & 0.67  \\\\ \n",
      "& $N = 4$  & 2.62 & 1.50 & 0.47 & -0.00 & 0.20 & 0.81  \\\\ \n"
     ]
    }
   ],
   "source": [
    "# H in collumns's\n",
    "\n",
    "discrt = 100\n",
    "N_range = [1,2,3,4]\n",
    "#H_range = [.1,.2,.3,.5,.8,1.0]\n",
    "H_range = [1.0/16,1.0/8,1.0/4,1.0/2,3.0/4,1.0]\n",
    "\n",
    "df_ = df.query('N in @N_range')\n",
    "df_ = df_.sort_values(by=['sig_comp','N', 'H'], ascending=[False, True, True])\n",
    "\n",
    "best_values = { \n",
    "    H: df_.query(\"H == @H\")[\"res\"].dropna().to_numpy().min().round(2)\n",
    "    for H in H_range\n",
    "}\n",
    "\n",
    "# First row\n",
    "print('  &  $H$', end=' ')\n",
    "for H in H_range:\n",
    "    print('&  {}'.format(H), end=' ')\n",
    "print(' \\\\\\\\')\n",
    "\n",
    "print('\\\\hline')\n",
    "print(r\"\\multirow{{ {} }}{{*}}{{ $\\mathcal{{A}}_{{ {} }}$ }}\".format(len(N_range), 'lin'), end='')\n",
    "for N in N_range:\n",
    "    print('& $N = {}$ '.format(N), end=' ')\n",
    "\n",
    "    for H in H_range:\n",
    "        \n",
    "        res = df_.query(\"N == @N and H == @H\")[[\"res\", \"err\"]]\n",
    "            \n",
    "        if len(res) == 0:\n",
    "            print('&      ', end=' ')\n",
    "        else:\n",
    "            v = res[\"res\"].to_numpy()[0]\n",
    "            if v.round(2) == best_values[H]:\n",
    "                #print('& \\\\textbf{{ {:0.2f} }}'.format(-v), end=' ')\n",
    "                print('& {:0.2f}'.format(-v), end=' ')\n",
    "            else:\n",
    "                print('& {:0.2f}'.format(-v), end=' ')\n",
    "    \n",
    "    print(' \\\\\\\\ ')"
   ]
  },
  {
   "cell_type": "code",
   "execution_count": null,
   "id": "4041dec9-ace7-4d70-b61b-b1114e3f4bba",
   "metadata": {},
   "outputs": [],
   "source": []
  },
  {
   "cell_type": "code",
   "execution_count": null,
   "id": "7f9bb64e-74df-406e-a248-4c79430755dd",
   "metadata": {},
   "outputs": [],
   "source": []
  },
  {
   "cell_type": "code",
   "execution_count": null,
   "id": "afa8c935-e2ef-4e08-8ee5-892c1c451112",
   "metadata": {},
   "outputs": [],
   "source": []
  },
  {
   "cell_type": "markdown",
   "id": "d5cc89ce-0569-4017-8fed-ea7db5e89ae1",
   "metadata": {},
   "source": [
    "### Old format"
   ]
  },
  {
   "cell_type": "code",
   "execution_count": 8,
   "id": "480c4c44-3668-4197-b6ab-8cf45f2f0f86",
   "metadata": {},
   "outputs": [
    {
     "name": "stdout",
     "output_type": "stream",
     "text": [
      "& $N = 1$  & $N = 2$  & $N = 3$  & $N = 4$  & $N = 1$  & $N = 2$  & $N = 3$  & $N = 4$   \\\\ \n",
      "1/4 & 0.708 & 29.816 & 44.379 & \\textbf{ 44.724 } & 1.120 & 30.420 & 35.701 & 37.984  \\\\ \n",
      "1/3 & 0.276 & 11.691 & 16.063 & \\textbf{ 16.087 } & 0.471 & 11.944 & 13.142 & 13.082  \\\\ \n",
      "1/2 & 0.005 & 0.002 & 0.009 & \\textbf{ 0.025 } & -0.016 & 0.011 & -0.040 & -0.004  \\\\ \n",
      "7/10 & 0.210 & 10.918 & \\textbf{ 13.128 } & 12.910 & 1.048 & 11.197 & 11.826 & 11.470  \\\\ \n",
      "9/10 & 0.777 & 36.820 & \\textbf{ 45.518 } & 44.799 & 8.810 & 39.988 & 40.322 & 40.418  \\\\ \n",
      "1 & 1.105 & 53.220 & 68.073 & 74.267 & 71.620 & 73.737 & 74.919 & \\textbf{ 75.497 }  \\\\ \n"
     ]
    }
   ],
   "source": [
    "discrt = 100\n",
    "space = ['sig', 'log']\n",
    "Ns = [1, 2, 3, 4]\n",
    "\n",
    "df_ = df.query('dscrt == @discrt and N in @Ns and space in @space')\n",
    "df_ = df_.sort_values(by=['sig_comp', 'N'], ascending=[False, True])\n",
    "\n",
    "for H in [-1, 1/4, 1/3, 1/2, 0.7, 0.9, 1.0]:\n",
    "    \n",
    "    if H >= 0:\n",
    "        filt = df_.query(\"H == {}\".format(H))[[\"H\", \"N\", \"res\", \"err\", \"space\"]]\n",
    "        values = filt[\"res\"].to_numpy().round(3)\n",
    "        v_min = filt[\"res\"].dropna().to_numpy().min().round(4)\n",
    "        if H == 1/3:\n",
    "            print(\"1/3\", end=' ')\n",
    "        elif H == 1.0:\n",
    "            print(\"1\", end=' ')\n",
    "        elif H > 1/2:\n",
    "            print(\"{}/{}\".format(int(H*10), 10), end=' ')\n",
    "        else:\n",
    "            print(\"{}/{}\".format(*H.as_integer_ratio()), end = ' ')\n",
    "        \n",
    "\n",
    "    for spc in space:\n",
    "        for N in Ns:\n",
    "            if H == -1:\n",
    "                print('& $N = {}$ '.format(N), end=' ')\n",
    "            else:\n",
    "                res = filt.query(\"N == @N and space == @spc\")[\"res\"]\n",
    "                if len(res) == 0:\n",
    "                    print('&      ', end=' ')\n",
    "                else:\n",
    "                    v = res.to_numpy()[0].round(4)\n",
    "                    v_rel = -v #100*(-v - twap)/twap \n",
    "                    if v == v_min:\n",
    "                        print('& \\\\textbf{{ {:0.3f} }}'.format(v_rel), end=' ')\n",
    "                    else:\n",
    "                        print('& {:0.3f}'.format(v_rel), end=' ')\n",
    "    if False:\n",
    "        if H == -1:\n",
    "            print('& bm ', end=' ')\n",
    "        elif H == 1/3:\n",
    "            print('& {:0.3f} '.format(0.4144001982160647), end=' ')\n",
    "        elif H == 0.7:\n",
    "            print('& {:0.3f} '.format(2.1403790882061484), end=' ')\n",
    "                        \n",
    "    print(' \\\\\\\\ ')"
   ]
  },
  {
   "cell_type": "code",
   "execution_count": 18,
   "id": "2c19491b-685b-4dcb-a688-67f0f31d650e",
   "metadata": {},
   "outputs": [
    {
     "data": {
      "text/plain": [
       "3.0029732408325072e-05"
      ]
     },
     "execution_count": 18,
     "metadata": {},
     "output_type": "execute_result"
    }
   ],
   "source": [
    "100 * 3*10**(-7) / twap"
   ]
  },
  {
   "cell_type": "code",
   "execution_count": 19,
   "id": "50386018-2b42-4d99-98fb-9b4bd91e02f5",
   "metadata": {},
   "outputs": [
    {
     "data": {
      "text/plain": [
       "(0.4144001982160647, 2.1403790882061484)"
      ]
     },
     "execution_count": 19,
     "metadata": {},
     "output_type": "execute_result"
    }
   ],
   "source": [
    "bench03 = 1.0031498\n",
    "bench07 = 1.0203925\n",
    "\n",
    "100 * (bench03 - twap) / twap, 100 * (bench07 - twap) / twap"
   ]
  },
  {
   "cell_type": "code",
   "execution_count": null,
   "id": "16d906b8-fe90-4ae3-a300-58adff065167",
   "metadata": {},
   "outputs": [],
   "source": []
  },
  {
   "cell_type": "markdown",
   "id": "009fcd83-4634-4d05-8ce8-9a9f48a7cd87",
   "metadata": {},
   "source": [
    "# TWAP"
   ]
  },
  {
   "cell_type": "code",
   "execution_count": 21,
   "id": "89a85acc-8fae-48aa-a9cc-bd5eb2630a26",
   "metadata": {},
   "outputs": [],
   "source": [
    "import torch\n",
    "\n",
    "from signature_control.examples.control.optimal_execution.run import loss_fn, rde_model, new_batch, params, update_params\n",
    "from signature_control.examples.control.strategies import TimeWeightedAverage\n",
    "from signature_control.examples.control.run_environment import run"
   ]
  },
  {
   "cell_type": "raw",
   "id": "9fc791b8-6002-469d-b4e1-6bac8bb612c2",
   "metadata": {},
   "source": [
    "# MERGING RESULTS\n",
    "files = os.listdir('results_local/')\n",
    "dfs = [\n",
    "    pd.read_pickle('results_local/{}'.format(f))\n",
    "    for f in files\n",
    "    #if f[-7:] == 'sig.pkl'\n",
    "]\n",
    "df = pd.concat(dfs, ignore_index=True)\n",
    "file_name = \"results_twap_2024_02_12\"\n",
    "df.to_pickle('results_merged/'+file_name+'.pkl')\n",
    "df.sort_values(by=['H']).to_csv('results_merged/'+file_name+'.csv')"
   ]
  },
  {
   "cell_type": "code",
   "execution_count": null,
   "id": "d37ceb3c-9e38-4301-9a2e-08792a797fec",
   "metadata": {},
   "outputs": [],
   "source": []
  },
  {
   "cell_type": "code",
   "execution_count": 17,
   "id": "21866336-3fe5-4ce2-9bcc-c176e3029e19",
   "metadata": {},
   "outputs": [
    {
     "data": {
      "text/plain": [
       "(0.999009900990099, 0.9900990099009901)"
      ]
     },
     "execution_count": 17,
     "metadata": {},
     "output_type": "execute_result"
    }
   ],
   "source": [
    "x0 = 1.0\n",
    "q0 = 1.0\n",
    "T = 1.0\n",
    "kappa = 0.001\n",
    "kappa_T = 0.1\n",
    "\n",
    "twap = x0*q0 - q0**2 * kappa * kappa_T / (kappa + T*kappa_T)\n",
    "alpha = q0 * T * kappa_T / (kappa + T*kappa_T)\n",
    "twap, alpha"
   ]
  },
  {
   "cell_type": "code",
   "execution_count": 51,
   "id": "3999a772-ea6e-4e8c-bc87-bf6b2c4b190a",
   "metadata": {},
   "outputs": [],
   "source": [
    "import torch"
   ]
  },
  {
   "cell_type": "code",
   "execution_count": 56,
   "id": "870db828-e789-4ca7-8910-febe8d15c912",
   "metadata": {},
   "outputs": [
    {
     "data": {
      "text/plain": [
       "tensor([0.0345, 0.1379, 0.2414, 0.3448, 0.4483, 0.5517, 0.6552, 0.7586, 0.8621,\n",
       "        0.9655])"
      ]
     },
     "execution_count": 56,
     "metadata": {},
     "output_type": "execute_result"
    }
   ],
   "source": [
    "a = torch.linspace(0, 1, 30).reshape(10,3)\n",
    "\n",
    "a.mean(dim=1)"
   ]
  },
  {
   "cell_type": "code",
   "execution_count": null,
   "id": "7715e9a5-dc38-48ed-a0d5-72b53fd52ee1",
   "metadata": {},
   "outputs": [],
   "source": []
  },
  {
   "cell_type": "code",
   "execution_count": null,
   "id": "1103c186-683f-4719-b124-51c8ce24fdcc",
   "metadata": {},
   "outputs": [],
   "source": []
  },
  {
   "cell_type": "code",
   "execution_count": null,
   "id": "378c9e50-6834-404b-9328-b6a256b1a811",
   "metadata": {},
   "outputs": [],
   "source": []
  },
  {
   "cell_type": "code",
   "execution_count": 3,
   "id": "9ab6a3c5-fec6-4c13-941e-9461c4b3dd20",
   "metadata": {},
   "outputs": [],
   "source": [
    "import iisignature\n",
    "import numpy as np"
   ]
  },
  {
   "cell_type": "code",
   "execution_count": 9,
   "id": "c336a78e-0513-4b1a-b84b-ebe1b5d0cdff",
   "metadata": {},
   "outputs": [],
   "source": [
    "X = np.random.randn(1000, 100, 2)"
   ]
  },
  {
   "cell_type": "code",
   "execution_count": 11,
   "id": "d48455fe-2f89-44d1-af33-52590f2ddd57",
   "metadata": {},
   "outputs": [
    {
     "data": {
      "text/plain": [
       "(1000, 2)"
      ]
     },
     "execution_count": 11,
     "metadata": {},
     "output_type": "execute_result"
    }
   ],
   "source": [
    "iisignature.sig(X, 1).shape"
   ]
  },
  {
   "cell_type": "code",
   "execution_count": 8,
   "id": "9eb95fde-1af8-4bd3-bc20-f001838f12db",
   "metadata": {},
   "outputs": [],
   "source": [
    "import torch"
   ]
  },
  {
   "cell_type": "code",
   "execution_count": 30,
   "id": "80a97004-04e5-4042-9f5d-07cc82c01fea",
   "metadata": {},
   "outputs": [
    {
     "data": {
      "text/plain": [
       "('self',\n",
       " 'params',\n",
       " 'lr',\n",
       " 'max_iter',\n",
       " 'max_eval',\n",
       " 'tolerance_grad',\n",
       " 'tolerance_change',\n",
       " 'history_size',\n",
       " 'line_search_fn',\n",
       " 'defaults')"
      ]
     },
     "execution_count": 30,
     "metadata": {},
     "output_type": "execute_result"
    }
   ],
   "source": []
  },
  {
   "cell_type": "code",
   "execution_count": null,
   "id": "06791e6e-37eb-4436-b492-d102da85b776",
   "metadata": {},
   "outputs": [],
   "source": []
  }
 ],
 "metadata": {
  "kernelspec": {
   "display_name": "Python 3 (ipykernel)",
   "language": "python",
   "name": "python3"
  },
  "language_info": {
   "codemirror_mode": {
    "name": "ipython",
    "version": 3
   },
   "file_extension": ".py",
   "mimetype": "text/x-python",
   "name": "python",
   "nbconvert_exporter": "python",
   "pygments_lexer": "ipython3",
   "version": "3.11.5"
  }
 },
 "nbformat": 4,
 "nbformat_minor": 5
}
