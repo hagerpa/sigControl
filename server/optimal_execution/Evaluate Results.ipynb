{
 "cells": [
  {
   "cell_type": "code",
   "execution_count": 9,
   "id": "bde5dfe6",
   "metadata": {},
   "outputs": [],
   "source": [
    "import pandas as pd\n",
    "import os\n",
    "import numpy as np\n",
    "import scipy"
   ]
  },
  {
   "cell_type": "code",
   "execution_count": 10,
   "id": "7aaac9ca-bf5f-4bfa-99d4-d9699cf3401a",
   "metadata": {},
   "outputs": [],
   "source": [
    "files = os.listdir('results_server/')\n",
    "filename = \"results_merged/results_2024_04_12\""
   ]
  },
  {
   "cell_type": "code",
   "execution_count": 11,
   "id": "6f98ce48-6b79-4ebf-b591-273a8070d5a1",
   "metadata": {},
   "outputs": [],
   "source": [
    "# MERGING RESULTS\n",
    "files = os.listdir('results_server/')\n",
    "dfs = [\n",
    "    pd.read_pickle('results_server/{}'.format(f))\n",
    "    for f in files\n",
    "    if f[-3:] == 'pkl'\n",
    "]\n",
    "df = pd.concat(dfs, ignore_index=True)\n",
    "df.sort_values(by=['H']).to_csv(filename+\".csv\")\n",
    "df.to_pickle(filename+\".pkl\")"
   ]
  },
  {
   "cell_type": "code",
   "execution_count": 12,
   "id": "fb91f00a",
   "metadata": {},
   "outputs": [],
   "source": [
    "df = pd.read_pickle(filename+\".pkl\")"
   ]
  },
  {
   "cell_type": "code",
   "execution_count": 13,
   "id": "8f5aa698-c6ef-4d0d-9743-249f93f2d5ba",
   "metadata": {},
   "outputs": [
    {
     "data": {
      "text/html": [
       "<div>\n",
       "<style scoped>\n",
       "    .dataframe tbody tr th:only-of-type {\n",
       "        vertical-align: middle;\n",
       "    }\n",
       "\n",
       "    .dataframe tbody tr th {\n",
       "        vertical-align: top;\n",
       "    }\n",
       "\n",
       "    .dataframe thead th {\n",
       "        text-align: right;\n",
       "    }\n",
       "</style>\n",
       "<table border=\"1\" class=\"dataframe\">\n",
       "  <thead>\n",
       "    <tr style=\"text-align: right;\">\n",
       "      <th></th>\n",
       "      <th>dscrt_train</th>\n",
       "      <th>dscrt</th>\n",
       "      <th>N</th>\n",
       "      <th>H</th>\n",
       "      <th>space</th>\n",
       "      <th>kappa</th>\n",
       "      <th>kappa_T</th>\n",
       "      <th>sigma</th>\n",
       "      <th>initial</th>\n",
       "      <th>constraint</th>\n",
       "      <th>...</th>\n",
       "      <th>optim_tolerance_change</th>\n",
       "      <th>optim_max_iter</th>\n",
       "      <th>max_gb</th>\n",
       "      <th>MC_</th>\n",
       "      <th>sig_comp</th>\n",
       "      <th>res</th>\n",
       "      <th>err</th>\n",
       "      <th>time</th>\n",
       "      <th>train_time</th>\n",
       "      <th>eval_time</th>\n",
       "    </tr>\n",
       "  </thead>\n",
       "  <tbody>\n",
       "    <tr>\n",
       "      <th>23</th>\n",
       "      <td>100</td>\n",
       "      <td>100</td>\n",
       "      <td>4</td>\n",
       "      <td>0.25</td>\n",
       "      <td>sig</td>\n",
       "      <td>0.001</td>\n",
       "      <td>0.1</td>\n",
       "      <td>0.20</td>\n",
       "      <td>1.0</td>\n",
       "      <td>None</td>\n",
       "      <td>...</td>\n",
       "      <td>0.0</td>\n",
       "      <td>100</td>\n",
       "      <td>128</td>\n",
       "      <td>262144</td>\n",
       "      <td>tX</td>\n",
       "      <td>-44.724184</td>\n",
       "      <td>0.142154</td>\n",
       "      <td>2024-03-16 01:27:09</td>\n",
       "      <td>5242.719766</td>\n",
       "      <td>21.204008</td>\n",
       "    </tr>\n",
       "    <tr>\n",
       "      <th>42</th>\n",
       "      <td>100</td>\n",
       "      <td>100</td>\n",
       "      <td>3</td>\n",
       "      <td>0.25</td>\n",
       "      <td>sig</td>\n",
       "      <td>0.001</td>\n",
       "      <td>0.1</td>\n",
       "      <td>0.20</td>\n",
       "      <td>1.0</td>\n",
       "      <td>None</td>\n",
       "      <td>...</td>\n",
       "      <td>0.0</td>\n",
       "      <td>100</td>\n",
       "      <td>128</td>\n",
       "      <td>262144</td>\n",
       "      <td>tX</td>\n",
       "      <td>-44.378982</td>\n",
       "      <td>0.142875</td>\n",
       "      <td>2024-03-15 20:53:23</td>\n",
       "      <td>3418.838006</td>\n",
       "      <td>14.513324</td>\n",
       "    </tr>\n",
       "    <tr>\n",
       "      <th>29</th>\n",
       "      <td>100</td>\n",
       "      <td>100</td>\n",
       "      <td>4</td>\n",
       "      <td>0.25</td>\n",
       "      <td>log</td>\n",
       "      <td>0.001</td>\n",
       "      <td>0.1</td>\n",
       "      <td>0.20</td>\n",
       "      <td>1.0</td>\n",
       "      <td>None</td>\n",
       "      <td>...</td>\n",
       "      <td>0.0</td>\n",
       "      <td>100</td>\n",
       "      <td>128</td>\n",
       "      <td>262144</td>\n",
       "      <td>tX</td>\n",
       "      <td>-37.984288</td>\n",
       "      <td>0.140608</td>\n",
       "      <td>2024-03-16 03:03:14</td>\n",
       "      <td>11428.776664</td>\n",
       "      <td>16.276386</td>\n",
       "    </tr>\n",
       "    <tr>\n",
       "      <th>37</th>\n",
       "      <td>100</td>\n",
       "      <td>100</td>\n",
       "      <td>3</td>\n",
       "      <td>0.25</td>\n",
       "      <td>log</td>\n",
       "      <td>0.001</td>\n",
       "      <td>0.1</td>\n",
       "      <td>0.20</td>\n",
       "      <td>1.0</td>\n",
       "      <td>None</td>\n",
       "      <td>...</td>\n",
       "      <td>0.0</td>\n",
       "      <td>100</td>\n",
       "      <td>128</td>\n",
       "      <td>262144</td>\n",
       "      <td>tX</td>\n",
       "      <td>-35.701183</td>\n",
       "      <td>0.152332</td>\n",
       "      <td>2024-03-15 22:54:59</td>\n",
       "      <td>10704.653188</td>\n",
       "      <td>15.106199</td>\n",
       "    </tr>\n",
       "    <tr>\n",
       "      <th>26</th>\n",
       "      <td>100</td>\n",
       "      <td>100</td>\n",
       "      <td>2</td>\n",
       "      <td>0.25</td>\n",
       "      <td>log</td>\n",
       "      <td>0.001</td>\n",
       "      <td>0.1</td>\n",
       "      <td>0.20</td>\n",
       "      <td>1.0</td>\n",
       "      <td>None</td>\n",
       "      <td>...</td>\n",
       "      <td>0.0</td>\n",
       "      <td>100</td>\n",
       "      <td>128</td>\n",
       "      <td>262144</td>\n",
       "      <td>tX</td>\n",
       "      <td>-30.420326</td>\n",
       "      <td>0.161839</td>\n",
       "      <td>2024-03-15 17:06:41</td>\n",
       "      <td>9498.449243</td>\n",
       "      <td>12.994428</td>\n",
       "    </tr>\n",
       "    <tr>\n",
       "      <th>20</th>\n",
       "      <td>100</td>\n",
       "      <td>100</td>\n",
       "      <td>2</td>\n",
       "      <td>0.25</td>\n",
       "      <td>sig</td>\n",
       "      <td>0.001</td>\n",
       "      <td>0.1</td>\n",
       "      <td>0.20</td>\n",
       "      <td>1.0</td>\n",
       "      <td>None</td>\n",
       "      <td>...</td>\n",
       "      <td>0.0</td>\n",
       "      <td>100</td>\n",
       "      <td>128</td>\n",
       "      <td>262144</td>\n",
       "      <td>tX</td>\n",
       "      <td>-29.815827</td>\n",
       "      <td>0.173614</td>\n",
       "      <td>2024-03-15 16:33:06</td>\n",
       "      <td>864.115228</td>\n",
       "      <td>9.923180</td>\n",
       "    </tr>\n",
       "    <tr>\n",
       "      <th>61</th>\n",
       "      <td>100</td>\n",
       "      <td>100</td>\n",
       "      <td>1</td>\n",
       "      <td>0.25</td>\n",
       "      <td>log</td>\n",
       "      <td>0.001</td>\n",
       "      <td>0.1</td>\n",
       "      <td>0.20</td>\n",
       "      <td>1.0</td>\n",
       "      <td>None</td>\n",
       "      <td>...</td>\n",
       "      <td>0.0</td>\n",
       "      <td>100</td>\n",
       "      <td>128</td>\n",
       "      <td>262144</td>\n",
       "      <td>tX</td>\n",
       "      <td>-1.119903</td>\n",
       "      <td>0.027528</td>\n",
       "      <td>2024-03-15 03:36:00</td>\n",
       "      <td>8957.336627</td>\n",
       "      <td>12.658896</td>\n",
       "    </tr>\n",
       "    <tr>\n",
       "      <th>65</th>\n",
       "      <td>100</td>\n",
       "      <td>100</td>\n",
       "      <td>1</td>\n",
       "      <td>0.25</td>\n",
       "      <td>sig</td>\n",
       "      <td>0.001</td>\n",
       "      <td>0.1</td>\n",
       "      <td>0.20</td>\n",
       "      <td>1.0</td>\n",
       "      <td>None</td>\n",
       "      <td>...</td>\n",
       "      <td>0.0</td>\n",
       "      <td>100</td>\n",
       "      <td>128</td>\n",
       "      <td>262144</td>\n",
       "      <td>tX</td>\n",
       "      <td>-0.707801</td>\n",
       "      <td>0.025423</td>\n",
       "      <td>2024-03-15 03:42:43</td>\n",
       "      <td>271.283547</td>\n",
       "      <td>7.757205</td>\n",
       "    </tr>\n",
       "    <tr>\n",
       "      <th>1</th>\n",
       "      <td>100</td>\n",
       "      <td>100</td>\n",
       "      <td>7</td>\n",
       "      <td>0.25</td>\n",
       "      <td>sig</td>\n",
       "      <td>0.001</td>\n",
       "      <td>0.1</td>\n",
       "      <td>0.02</td>\n",
       "      <td>1.0</td>\n",
       "      <td>None</td>\n",
       "      <td>...</td>\n",
       "      <td>0.0</td>\n",
       "      <td>100</td>\n",
       "      <td>128</td>\n",
       "      <td>262144</td>\n",
       "      <td>tX</td>\n",
       "      <td>-0.444921</td>\n",
       "      <td>0.002819</td>\n",
       "      <td>2024-03-13 20:57:25</td>\n",
       "      <td>51550.620400</td>\n",
       "      <td>97.154932</td>\n",
       "    </tr>\n",
       "    <tr>\n",
       "      <th>4</th>\n",
       "      <td>100</td>\n",
       "      <td>100</td>\n",
       "      <td>6</td>\n",
       "      <td>0.25</td>\n",
       "      <td>sig</td>\n",
       "      <td>0.001</td>\n",
       "      <td>0.1</td>\n",
       "      <td>0.02</td>\n",
       "      <td>1.0</td>\n",
       "      <td>None</td>\n",
       "      <td>...</td>\n",
       "      <td>0.0</td>\n",
       "      <td>100</td>\n",
       "      <td>128</td>\n",
       "      <td>262144</td>\n",
       "      <td>tX</td>\n",
       "      <td>-0.438143</td>\n",
       "      <td>0.002791</td>\n",
       "      <td>2024-03-13 08:15:37</td>\n",
       "      <td>28199.954909</td>\n",
       "      <td>53.088643</td>\n",
       "    </tr>\n",
       "    <tr>\n",
       "      <th>0</th>\n",
       "      <td>100</td>\n",
       "      <td>100</td>\n",
       "      <td>6</td>\n",
       "      <td>0.25</td>\n",
       "      <td>log</td>\n",
       "      <td>0.001</td>\n",
       "      <td>0.1</td>\n",
       "      <td>0.02</td>\n",
       "      <td>1.0</td>\n",
       "      <td>None</td>\n",
       "      <td>...</td>\n",
       "      <td>0.0</td>\n",
       "      <td>100</td>\n",
       "      <td>128</td>\n",
       "      <td>262144</td>\n",
       "      <td>tX</td>\n",
       "      <td>-0.366637</td>\n",
       "      <td>0.002958</td>\n",
       "      <td>2024-03-13 15:37:17</td>\n",
       "      <td>55098.681627</td>\n",
       "      <td>55.912920</td>\n",
       "    </tr>\n",
       "  </tbody>\n",
       "</table>\n",
       "<p>11 rows × 29 columns</p>\n",
       "</div>"
      ],
      "text/plain": [
       "    dscrt_train  dscrt  N     H space  kappa  kappa_T  sigma  initial  \\\n",
       "23          100    100  4  0.25   sig  0.001      0.1   0.20      1.0   \n",
       "42          100    100  3  0.25   sig  0.001      0.1   0.20      1.0   \n",
       "29          100    100  4  0.25   log  0.001      0.1   0.20      1.0   \n",
       "37          100    100  3  0.25   log  0.001      0.1   0.20      1.0   \n",
       "26          100    100  2  0.25   log  0.001      0.1   0.20      1.0   \n",
       "20          100    100  2  0.25   sig  0.001      0.1   0.20      1.0   \n",
       "61          100    100  1  0.25   log  0.001      0.1   0.20      1.0   \n",
       "65          100    100  1  0.25   sig  0.001      0.1   0.20      1.0   \n",
       "1           100    100  7  0.25   sig  0.001      0.1   0.02      1.0   \n",
       "4           100    100  6  0.25   sig  0.001      0.1   0.02      1.0   \n",
       "0           100    100  6  0.25   log  0.001      0.1   0.02      1.0   \n",
       "\n",
       "   constraint  ...  optim_tolerance_change  optim_max_iter  max_gb     MC_  \\\n",
       "23       None  ...                     0.0             100     128  262144   \n",
       "42       None  ...                     0.0             100     128  262144   \n",
       "29       None  ...                     0.0             100     128  262144   \n",
       "37       None  ...                     0.0             100     128  262144   \n",
       "26       None  ...                     0.0             100     128  262144   \n",
       "20       None  ...                     0.0             100     128  262144   \n",
       "61       None  ...                     0.0             100     128  262144   \n",
       "65       None  ...                     0.0             100     128  262144   \n",
       "1        None  ...                     0.0             100     128  262144   \n",
       "4        None  ...                     0.0             100     128  262144   \n",
       "0        None  ...                     0.0             100     128  262144   \n",
       "\n",
       "    sig_comp        res       err                time    train_time  eval_time  \n",
       "23        tX -44.724184  0.142154 2024-03-16 01:27:09   5242.719766  21.204008  \n",
       "42        tX -44.378982  0.142875 2024-03-15 20:53:23   3418.838006  14.513324  \n",
       "29        tX -37.984288  0.140608 2024-03-16 03:03:14  11428.776664  16.276386  \n",
       "37        tX -35.701183  0.152332 2024-03-15 22:54:59  10704.653188  15.106199  \n",
       "26        tX -30.420326  0.161839 2024-03-15 17:06:41   9498.449243  12.994428  \n",
       "20        tX -29.815827  0.173614 2024-03-15 16:33:06    864.115228   9.923180  \n",
       "61        tX  -1.119903  0.027528 2024-03-15 03:36:00   8957.336627  12.658896  \n",
       "65        tX  -0.707801  0.025423 2024-03-15 03:42:43    271.283547   7.757205  \n",
       "1         tX  -0.444921  0.002819 2024-03-13 20:57:25  51550.620400  97.154932  \n",
       "4         tX  -0.438143  0.002791 2024-03-13 08:15:37  28199.954909  53.088643  \n",
       "0         tX  -0.366637  0.002958 2024-03-13 15:37:17  55098.681627  55.912920  \n",
       "\n",
       "[11 rows x 29 columns]"
      ]
     },
     "execution_count": 13,
     "metadata": {},
     "output_type": "execute_result"
    }
   ],
   "source": [
    "df[df[\"H\"]==0.25].sort_values(by=[\"res\"])"
   ]
  },
  {
   "cell_type": "code",
   "execution_count": 8,
   "id": "480c4c44-3668-4197-b6ab-8cf45f2f0f86",
   "metadata": {},
   "outputs": [
    {
     "name": "stdout",
     "output_type": "stream",
     "text": [
      "& $N = 1$  & $N = 2$  & $N = 3$  & $N = 4$  & $N = 1$  & $N = 2$  & $N = 3$  & $N = 4$   \\\\ \n",
      "1/4 & 0.708 & 29.816 & 44.379 & \\textbf{ 44.724 } & 1.120 & 30.420 & 35.701 & 37.984  \\\\ \n",
      "1/3 & 0.276 & 11.691 & 16.063 & \\textbf{ 16.087 } & 0.471 & 11.944 & 13.142 & 13.082  \\\\ \n",
      "1/2 & 0.005 & 0.002 & 0.009 & \\textbf{ 0.025 } & -0.016 & 0.011 & -0.040 & -0.004  \\\\ \n",
      "7/10 & 0.210 & 10.918 & \\textbf{ 13.128 } & 12.910 & 1.048 & 11.197 & 11.826 & 11.470  \\\\ \n",
      "9/10 & 0.777 & 36.820 & \\textbf{ 45.518 } & 44.799 & 8.810 & 39.988 & 40.322 & 40.418  \\\\ \n",
      "1 & 1.105 & 53.220 & 68.073 & 74.267 & 71.620 & 73.737 & 74.919 & \\textbf{ 75.497 }  \\\\ \n"
     ]
    }
   ],
   "source": [
    "discrt = 100\n",
    "space = ['sig', 'log']\n",
    "Ns = [1, 2, 3, 4]\n",
    "\n",
    "df_ = df.query('dscrt == @discrt and N in @Ns and space in @space')\n",
    "df_ = df_.sort_values(by=['sig_comp', 'N'], ascending=[False, True])\n",
    "\n",
    "for H in [-1, 1/4, 1/3, 1/2, 0.7, 0.9, 1.0]:\n",
    "    \n",
    "    if H >= 0:\n",
    "        filt = df_.query(\"H == {}\".format(H))[[\"H\", \"N\", \"res\", \"err\", \"space\"]]\n",
    "        values = filt[\"res\"].to_numpy().round(3)\n",
    "        v_min = filt[\"res\"].dropna().to_numpy().min().round(4)\n",
    "        if H == 1/3:\n",
    "            print(\"1/3\", end=' ')\n",
    "        elif H == 1.0:\n",
    "            print(\"1\", end=' ')\n",
    "        elif H > 1/2:\n",
    "            print(\"{}/{}\".format(int(H*10), 10), end=' ')\n",
    "        else:\n",
    "            print(\"{}/{}\".format(*H.as_integer_ratio()), end = ' ')\n",
    "        \n",
    "\n",
    "    for spc in space:\n",
    "        for N in Ns:\n",
    "            if H == -1:\n",
    "                print('& $N = {}$ '.format(N), end=' ')\n",
    "            else:\n",
    "                res = filt.query(\"N == @N and space == @spc\")[\"res\"]\n",
    "                if len(res) == 0:\n",
    "                    print('&      ', end=' ')\n",
    "                else:\n",
    "                    v = res.to_numpy()[0].round(4)\n",
    "                    v_rel = -v #100*(-v - twap)/twap \n",
    "                    if v == v_min:\n",
    "                        print('& \\\\textbf{{ {:0.3f} }}'.format(v_rel), end=' ')\n",
    "                    else:\n",
    "                        print('& {:0.3f}'.format(v_rel), end=' ')\n",
    "    if False:\n",
    "        if H == -1:\n",
    "            print('& bm ', end=' ')\n",
    "        elif H == 1/3:\n",
    "            print('& {:0.3f} '.format(0.4144001982160647), end=' ')\n",
    "        elif H == 0.7:\n",
    "            print('& {:0.3f} '.format(2.1403790882061484), end=' ')\n",
    "                        \n",
    "    print(' \\\\\\\\ ')"
   ]
  },
  {
   "cell_type": "code",
   "execution_count": 18,
   "id": "2c19491b-685b-4dcb-a688-67f0f31d650e",
   "metadata": {},
   "outputs": [
    {
     "data": {
      "text/plain": [
       "3.0029732408325072e-05"
      ]
     },
     "execution_count": 18,
     "metadata": {},
     "output_type": "execute_result"
    }
   ],
   "source": [
    "100 * 3*10**(-7) / twap"
   ]
  },
  {
   "cell_type": "code",
   "execution_count": 19,
   "id": "50386018-2b42-4d99-98fb-9b4bd91e02f5",
   "metadata": {},
   "outputs": [
    {
     "data": {
      "text/plain": [
       "(0.4144001982160647, 2.1403790882061484)"
      ]
     },
     "execution_count": 19,
     "metadata": {},
     "output_type": "execute_result"
    }
   ],
   "source": [
    "bench03 = 1.0031498\n",
    "bench07 = 1.0203925\n",
    "\n",
    "100 * (bench03 - twap) / twap, 100 * (bench07 - twap) / twap"
   ]
  },
  {
   "cell_type": "code",
   "execution_count": null,
   "id": "16d906b8-fe90-4ae3-a300-58adff065167",
   "metadata": {},
   "outputs": [],
   "source": []
  },
  {
   "cell_type": "markdown",
   "id": "009fcd83-4634-4d05-8ce8-9a9f48a7cd87",
   "metadata": {},
   "source": [
    "# TWAP"
   ]
  },
  {
   "cell_type": "code",
   "execution_count": 21,
   "id": "89a85acc-8fae-48aa-a9cc-bd5eb2630a26",
   "metadata": {},
   "outputs": [],
   "source": [
    "import torch\n",
    "\n",
    "from signature_control.examples.control.optimal_execution.run import loss_fn, rde_model, new_batch, params, update_params\n",
    "from signature_control.examples.control.strategies import TimeWeightedAverage\n",
    "from signature_control.examples.control.run_environment import run"
   ]
  },
  {
   "cell_type": "raw",
   "id": "9fc791b8-6002-469d-b4e1-6bac8bb612c2",
   "metadata": {},
   "source": [
    "# MERGING RESULTS\n",
    "files = os.listdir('results_local/')\n",
    "dfs = [\n",
    "    pd.read_pickle('results_local/{}'.format(f))\n",
    "    for f in files\n",
    "    #if f[-7:] == 'sig.pkl'\n",
    "]\n",
    "df = pd.concat(dfs, ignore_index=True)\n",
    "file_name = \"results_twap_2024_02_12\"\n",
    "df.to_pickle('results_merged/'+file_name+'.pkl')\n",
    "df.sort_values(by=['H']).to_csv('results_merged/'+file_name+'.csv')"
   ]
  },
  {
   "cell_type": "code",
   "execution_count": null,
   "id": "d37ceb3c-9e38-4301-9a2e-08792a797fec",
   "metadata": {},
   "outputs": [],
   "source": []
  },
  {
   "cell_type": "code",
   "execution_count": 17,
   "id": "21866336-3fe5-4ce2-9bcc-c176e3029e19",
   "metadata": {},
   "outputs": [
    {
     "data": {
      "text/plain": [
       "(0.999009900990099, 0.9900990099009901)"
      ]
     },
     "execution_count": 17,
     "metadata": {},
     "output_type": "execute_result"
    }
   ],
   "source": [
    "x0 = 1.0\n",
    "q0 = 1.0\n",
    "T = 1.0\n",
    "kappa = 0.001\n",
    "kappa_T = 0.1\n",
    "\n",
    "twap = x0*q0 - q0**2 * kappa * kappa_T / (kappa + T*kappa_T)\n",
    "alpha = q0 * T * kappa_T / (kappa + T*kappa_T)\n",
    "twap, alpha"
   ]
  },
  {
   "cell_type": "code",
   "execution_count": 51,
   "id": "3999a772-ea6e-4e8c-bc87-bf6b2c4b190a",
   "metadata": {},
   "outputs": [],
   "source": [
    "import torch"
   ]
  },
  {
   "cell_type": "code",
   "execution_count": 56,
   "id": "870db828-e789-4ca7-8910-febe8d15c912",
   "metadata": {},
   "outputs": [
    {
     "data": {
      "text/plain": [
       "tensor([0.0345, 0.1379, 0.2414, 0.3448, 0.4483, 0.5517, 0.6552, 0.7586, 0.8621,\n",
       "        0.9655])"
      ]
     },
     "execution_count": 56,
     "metadata": {},
     "output_type": "execute_result"
    }
   ],
   "source": [
    "a = torch.linspace(0, 1, 30).reshape(10,3)\n",
    "\n",
    "a.mean(dim=1)"
   ]
  },
  {
   "cell_type": "code",
   "execution_count": null,
   "id": "7715e9a5-dc38-48ed-a0d5-72b53fd52ee1",
   "metadata": {},
   "outputs": [],
   "source": []
  },
  {
   "cell_type": "code",
   "execution_count": null,
   "id": "1103c186-683f-4719-b124-51c8ce24fdcc",
   "metadata": {},
   "outputs": [],
   "source": []
  },
  {
   "cell_type": "code",
   "execution_count": null,
   "id": "378c9e50-6834-404b-9328-b6a256b1a811",
   "metadata": {},
   "outputs": [],
   "source": []
  },
  {
   "cell_type": "code",
   "execution_count": 3,
   "id": "9ab6a3c5-fec6-4c13-941e-9461c4b3dd20",
   "metadata": {},
   "outputs": [],
   "source": [
    "import iisignature\n",
    "import numpy as np"
   ]
  },
  {
   "cell_type": "code",
   "execution_count": 9,
   "id": "c336a78e-0513-4b1a-b84b-ebe1b5d0cdff",
   "metadata": {},
   "outputs": [],
   "source": [
    "X = np.random.randn(1000, 100, 2)"
   ]
  },
  {
   "cell_type": "code",
   "execution_count": 11,
   "id": "d48455fe-2f89-44d1-af33-52590f2ddd57",
   "metadata": {},
   "outputs": [
    {
     "data": {
      "text/plain": [
       "(1000, 2)"
      ]
     },
     "execution_count": 11,
     "metadata": {},
     "output_type": "execute_result"
    }
   ],
   "source": [
    "iisignature.sig(X, 1).shape"
   ]
  },
  {
   "cell_type": "code",
   "execution_count": 8,
   "id": "9eb95fde-1af8-4bd3-bc20-f001838f12db",
   "metadata": {},
   "outputs": [],
   "source": [
    "import torch"
   ]
  },
  {
   "cell_type": "code",
   "execution_count": 30,
   "id": "80a97004-04e5-4042-9f5d-07cc82c01fea",
   "metadata": {},
   "outputs": [
    {
     "data": {
      "text/plain": [
       "('self',\n",
       " 'params',\n",
       " 'lr',\n",
       " 'max_iter',\n",
       " 'max_eval',\n",
       " 'tolerance_grad',\n",
       " 'tolerance_change',\n",
       " 'history_size',\n",
       " 'line_search_fn',\n",
       " 'defaults')"
      ]
     },
     "execution_count": 30,
     "metadata": {},
     "output_type": "execute_result"
    }
   ],
   "source": []
  },
  {
   "cell_type": "code",
   "execution_count": null,
   "id": "06791e6e-37eb-4436-b492-d102da85b776",
   "metadata": {},
   "outputs": [],
   "source": []
  }
 ],
 "metadata": {
  "kernelspec": {
   "display_name": "Python 3 (ipykernel)",
   "language": "python",
   "name": "python3"
  },
  "language_info": {
   "codemirror_mode": {
    "name": "ipython",
    "version": 3
   },
   "file_extension": ".py",
   "mimetype": "text/x-python",
   "name": "python",
   "nbconvert_exporter": "python",
   "pygments_lexer": "ipython3",
   "version": "3.11.5"
  }
 },
 "nbformat": 4,
 "nbformat_minor": 5
}
